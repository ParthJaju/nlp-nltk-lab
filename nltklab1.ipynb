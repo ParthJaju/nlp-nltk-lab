{
  "nbformat": 4,
  "nbformat_minor": 0,
  "metadata": {
    "colab": {
      "provenance": []
    },
    "kernelspec": {
      "name": "python3",
      "display_name": "Python 3"
    },
    "language_info": {
      "name": "python"
    }
  },
  "cells": [
    {
      "cell_type": "markdown",
      "source": [
        "# NLTK Library"
      ],
      "metadata": {
        "id": "1PKB__4dFA3I"
      }
    },
    {
      "cell_type": "markdown",
      "source": [
        "## Sentence Tokenizer"
      ],
      "metadata": {
        "id": "ivdw3YBsE0F8"
      }
    },
    {
      "cell_type": "code",
      "source": [
        "import nltk\n",
        "nltk.download('punkt')  # Download the necessary resources\n",
        "\n",
        "from nltk.tokenize import sent_tokenize"
      ],
      "metadata": {
        "colab": {
          "base_uri": "https://localhost:8080/"
        },
        "id": "laL6CosJE0Ww",
        "outputId": "ff02a265-2318-4e12-a0d0-4f0279c6d27f"
      },
      "execution_count": 12,
      "outputs": [
        {
          "output_type": "stream",
          "name": "stderr",
          "text": [
            "[nltk_data] Downloading package punkt to /root/nltk_data...\n",
            "[nltk_data]   Package punkt is already up-to-date!\n"
          ]
        }
      ]
    },
    {
      "cell_type": "code",
      "source": [
        "text = \"Hello! How are you doing? I hope everything is going well. My name is Parth Jaju. What is your name? Wow, that's great!\"\n",
        "sentences = sent_tokenize(text)\n",
        "for sentence in sentences:\n",
        "    print(sentence)"
      ],
      "metadata": {
        "colab": {
          "base_uri": "https://localhost:8080/"
        },
        "id": "ul11aYGAFHXb",
        "outputId": "b830e2ac-ea8d-41e8-d41a-934da5eaaf45"
      },
      "execution_count": 13,
      "outputs": [
        {
          "output_type": "stream",
          "name": "stdout",
          "text": [
            "Hello!\n",
            "How are you doing?\n",
            "I hope everything is going well.\n",
            "My name is Parth Jaju.\n",
            "What is your name?\n",
            "Wow, that's great!\n"
          ]
        }
      ]
    },
    {
      "cell_type": "markdown",
      "source": [
        "## Word Tokenizer"
      ],
      "metadata": {
        "id": "AT7Y4Md6c9GN"
      }
    },
    {
      "cell_type": "code",
      "execution_count": null,
      "metadata": {
        "id": "0aonhC6eV6kU"
      },
      "outputs": [],
      "source": [
        "import nltk\n",
        "from nltk.tokenize import word_tokenize, sent_tokenize"
      ]
    },
    {
      "cell_type": "code",
      "source": [
        "nltk.download('punkt')"
      ],
      "metadata": {
        "colab": {
          "base_uri": "https://localhost:8080/"
        },
        "id": "UyIDt_UqXWx7",
        "outputId": "9ec4ae50-998f-4edb-8378-3ed909ec32b9"
      },
      "execution_count": null,
      "outputs": [
        {
          "output_type": "stream",
          "name": "stderr",
          "text": [
            "[nltk_data] Downloading package punkt to /root/nltk_data...\n",
            "[nltk_data]   Unzipping tokenizers/punkt.zip.\n"
          ]
        },
        {
          "output_type": "execute_result",
          "data": {
            "text/plain": [
              "True"
            ]
          },
          "metadata": {},
          "execution_count": 4
        }
      ]
    },
    {
      "cell_type": "code",
      "source": [
        "import pandas as pd\n",
        "df = pd.read_csv('https://raw.githubusercontent.com/flyandlure/datasets/master/titles_and_descriptions.csv')\n",
        "df.head()"
      ],
      "metadata": {
        "colab": {
          "base_uri": "https://localhost:8080/",
          "height": 206
        },
        "id": "f0kzA21Ka9mF",
        "outputId": "44fe2f18-bdc6-4481-e500-1dbd3ae5bd86"
      },
      "execution_count": null,
      "outputs": [
        {
          "output_type": "execute_result",
          "data": {
            "text/plain": [
              "                                                 url  \\\n",
              "0  https://practicaldatascience.co.uk/data-scienc...   \n",
              "1  https://practicaldatascience.co.uk/data-scienc...   \n",
              "2  https://practicaldatascience.co.uk/machine-lea...   \n",
              "3  https://practicaldatascience.co.uk/machine-lea...   \n",
              "4  https://practicaldatascience.co.uk/machine-lea...   \n",
              "\n",
              "                                               title  \\\n",
              "0  How to create a Python virtual environment for...   \n",
              "1         How to engineer date features using Pandas   \n",
              "2  How to impute missing numeric values in your d...   \n",
              "3              How to interpret the confusion matrix   \n",
              "4  How to use mean encoding in your machine learn...   \n",
              "\n",
              "                                         description  \n",
              "0  Learn how to create a virtual environment for ...  \n",
              "1  In time series datasets dates often hold the k...  \n",
              "2  Cleverly filling in the gaps when numeric data...  \n",
              "3  The confusion matrix can tell you more about y...  \n",
              "4  Learn how to use the mean encoding technique t...  "
            ],
            "text/html": [
              "\n",
              "\n",
              "  <div id=\"df-be025110-a31d-40d2-8a00-b13d6180f257\">\n",
              "    <div class=\"colab-df-container\">\n",
              "      <div>\n",
              "<style scoped>\n",
              "    .dataframe tbody tr th:only-of-type {\n",
              "        vertical-align: middle;\n",
              "    }\n",
              "\n",
              "    .dataframe tbody tr th {\n",
              "        vertical-align: top;\n",
              "    }\n",
              "\n",
              "    .dataframe thead th {\n",
              "        text-align: right;\n",
              "    }\n",
              "</style>\n",
              "<table border=\"1\" class=\"dataframe\">\n",
              "  <thead>\n",
              "    <tr style=\"text-align: right;\">\n",
              "      <th></th>\n",
              "      <th>url</th>\n",
              "      <th>title</th>\n",
              "      <th>description</th>\n",
              "    </tr>\n",
              "  </thead>\n",
              "  <tbody>\n",
              "    <tr>\n",
              "      <th>0</th>\n",
              "      <td>https://practicaldatascience.co.uk/data-scienc...</td>\n",
              "      <td>How to create a Python virtual environment for...</td>\n",
              "      <td>Learn how to create a virtual environment for ...</td>\n",
              "    </tr>\n",
              "    <tr>\n",
              "      <th>1</th>\n",
              "      <td>https://practicaldatascience.co.uk/data-scienc...</td>\n",
              "      <td>How to engineer date features using Pandas</td>\n",
              "      <td>In time series datasets dates often hold the k...</td>\n",
              "    </tr>\n",
              "    <tr>\n",
              "      <th>2</th>\n",
              "      <td>https://practicaldatascience.co.uk/machine-lea...</td>\n",
              "      <td>How to impute missing numeric values in your d...</td>\n",
              "      <td>Cleverly filling in the gaps when numeric data...</td>\n",
              "    </tr>\n",
              "    <tr>\n",
              "      <th>3</th>\n",
              "      <td>https://practicaldatascience.co.uk/machine-lea...</td>\n",
              "      <td>How to interpret the confusion matrix</td>\n",
              "      <td>The confusion matrix can tell you more about y...</td>\n",
              "    </tr>\n",
              "    <tr>\n",
              "      <th>4</th>\n",
              "      <td>https://practicaldatascience.co.uk/machine-lea...</td>\n",
              "      <td>How to use mean encoding in your machine learn...</td>\n",
              "      <td>Learn how to use the mean encoding technique t...</td>\n",
              "    </tr>\n",
              "  </tbody>\n",
              "</table>\n",
              "</div>\n",
              "      <button class=\"colab-df-convert\" onclick=\"convertToInteractive('df-be025110-a31d-40d2-8a00-b13d6180f257')\"\n",
              "              title=\"Convert this dataframe to an interactive table.\"\n",
              "              style=\"display:none;\">\n",
              "\n",
              "  <svg xmlns=\"http://www.w3.org/2000/svg\" height=\"24px\"viewBox=\"0 0 24 24\"\n",
              "       width=\"24px\">\n",
              "    <path d=\"M0 0h24v24H0V0z\" fill=\"none\"/>\n",
              "    <path d=\"M18.56 5.44l.94 2.06.94-2.06 2.06-.94-2.06-.94-.94-2.06-.94 2.06-2.06.94zm-11 1L8.5 8.5l.94-2.06 2.06-.94-2.06-.94L8.5 2.5l-.94 2.06-2.06.94zm10 10l.94 2.06.94-2.06 2.06-.94-2.06-.94-.94-2.06-.94 2.06-2.06.94z\"/><path d=\"M17.41 7.96l-1.37-1.37c-.4-.4-.92-.59-1.43-.59-.52 0-1.04.2-1.43.59L10.3 9.45l-7.72 7.72c-.78.78-.78 2.05 0 2.83L4 21.41c.39.39.9.59 1.41.59.51 0 1.02-.2 1.41-.59l7.78-7.78 2.81-2.81c.8-.78.8-2.07 0-2.86zM5.41 20L4 18.59l7.72-7.72 1.47 1.35L5.41 20z\"/>\n",
              "  </svg>\n",
              "      </button>\n",
              "\n",
              "\n",
              "\n",
              "    <div id=\"df-cf4b2094-3f68-4280-8599-459061d1d21d\">\n",
              "      <button class=\"colab-df-quickchart\" onclick=\"quickchart('df-cf4b2094-3f68-4280-8599-459061d1d21d')\"\n",
              "              title=\"Suggest charts.\"\n",
              "              style=\"display:none;\">\n",
              "\n",
              "<svg xmlns=\"http://www.w3.org/2000/svg\" height=\"24px\"viewBox=\"0 0 24 24\"\n",
              "     width=\"24px\">\n",
              "    <g>\n",
              "        <path d=\"M19 3H5c-1.1 0-2 .9-2 2v14c0 1.1.9 2 2 2h14c1.1 0 2-.9 2-2V5c0-1.1-.9-2-2-2zM9 17H7v-7h2v7zm4 0h-2V7h2v10zm4 0h-2v-4h2v4z\"/>\n",
              "    </g>\n",
              "</svg>\n",
              "      </button>\n",
              "    </div>\n",
              "\n",
              "<style>\n",
              "  .colab-df-quickchart {\n",
              "    background-color: #E8F0FE;\n",
              "    border: none;\n",
              "    border-radius: 50%;\n",
              "    cursor: pointer;\n",
              "    display: none;\n",
              "    fill: #1967D2;\n",
              "    height: 32px;\n",
              "    padding: 0 0 0 0;\n",
              "    width: 32px;\n",
              "  }\n",
              "\n",
              "  .colab-df-quickchart:hover {\n",
              "    background-color: #E2EBFA;\n",
              "    box-shadow: 0px 1px 2px rgba(60, 64, 67, 0.3), 0px 1px 3px 1px rgba(60, 64, 67, 0.15);\n",
              "    fill: #174EA6;\n",
              "  }\n",
              "\n",
              "  [theme=dark] .colab-df-quickchart {\n",
              "    background-color: #3B4455;\n",
              "    fill: #D2E3FC;\n",
              "  }\n",
              "\n",
              "  [theme=dark] .colab-df-quickchart:hover {\n",
              "    background-color: #434B5C;\n",
              "    box-shadow: 0px 1px 3px 1px rgba(0, 0, 0, 0.15);\n",
              "    filter: drop-shadow(0px 1px 2px rgba(0, 0, 0, 0.3));\n",
              "    fill: #FFFFFF;\n",
              "  }\n",
              "</style>\n",
              "\n",
              "    <script>\n",
              "      async function quickchart(key) {\n",
              "        const containerElement = document.querySelector('#' + key);\n",
              "        const charts = await google.colab.kernel.invokeFunction(\n",
              "            'suggestCharts', [key], {});\n",
              "      }\n",
              "    </script>\n",
              "\n",
              "      <script>\n",
              "\n",
              "function displayQuickchartButton(domScope) {\n",
              "  let quickchartButtonEl =\n",
              "    domScope.querySelector('#df-cf4b2094-3f68-4280-8599-459061d1d21d button.colab-df-quickchart');\n",
              "  quickchartButtonEl.style.display =\n",
              "    google.colab.kernel.accessAllowed ? 'block' : 'none';\n",
              "}\n",
              "\n",
              "        displayQuickchartButton(document);\n",
              "      </script>\n",
              "      <style>\n",
              "    .colab-df-container {\n",
              "      display:flex;\n",
              "      flex-wrap:wrap;\n",
              "      gap: 12px;\n",
              "    }\n",
              "\n",
              "    .colab-df-convert {\n",
              "      background-color: #E8F0FE;\n",
              "      border: none;\n",
              "      border-radius: 50%;\n",
              "      cursor: pointer;\n",
              "      display: none;\n",
              "      fill: #1967D2;\n",
              "      height: 32px;\n",
              "      padding: 0 0 0 0;\n",
              "      width: 32px;\n",
              "    }\n",
              "\n",
              "    .colab-df-convert:hover {\n",
              "      background-color: #E2EBFA;\n",
              "      box-shadow: 0px 1px 2px rgba(60, 64, 67, 0.3), 0px 1px 3px 1px rgba(60, 64, 67, 0.15);\n",
              "      fill: #174EA6;\n",
              "    }\n",
              "\n",
              "    [theme=dark] .colab-df-convert {\n",
              "      background-color: #3B4455;\n",
              "      fill: #D2E3FC;\n",
              "    }\n",
              "\n",
              "    [theme=dark] .colab-df-convert:hover {\n",
              "      background-color: #434B5C;\n",
              "      box-shadow: 0px 1px 3px 1px rgba(0, 0, 0, 0.15);\n",
              "      filter: drop-shadow(0px 1px 2px rgba(0, 0, 0, 0.3));\n",
              "      fill: #FFFFFF;\n",
              "    }\n",
              "  </style>\n",
              "\n",
              "      <script>\n",
              "        const buttonEl =\n",
              "          document.querySelector('#df-be025110-a31d-40d2-8a00-b13d6180f257 button.colab-df-convert');\n",
              "        buttonEl.style.display =\n",
              "          google.colab.kernel.accessAllowed ? 'block' : 'none';\n",
              "\n",
              "        async function convertToInteractive(key) {\n",
              "          const element = document.querySelector('#df-be025110-a31d-40d2-8a00-b13d6180f257');\n",
              "          const dataTable =\n",
              "            await google.colab.kernel.invokeFunction('convertToInteractive',\n",
              "                                                     [key], {});\n",
              "          if (!dataTable) return;\n",
              "\n",
              "          const docLinkHtml = 'Like what you see? Visit the ' +\n",
              "            '<a target=\"_blank\" href=https://colab.research.google.com/notebooks/data_table.ipynb>data table notebook</a>'\n",
              "            + ' to learn more about interactive tables.';\n",
              "          element.innerHTML = '';\n",
              "          dataTable['output_type'] = 'display_data';\n",
              "          await google.colab.output.renderOutput(dataTable, element);\n",
              "          const docLink = document.createElement('div');\n",
              "          docLink.innerHTML = docLinkHtml;\n",
              "          element.appendChild(docLink);\n",
              "        }\n",
              "      </script>\n",
              "    </div>\n",
              "  </div>\n"
            ]
          },
          "metadata": {},
          "execution_count": 19
        }
      ]
    },
    {
      "cell_type": "code",
      "source": [
        "df['text'] = df['title'] + \" \" + df['description']\n",
        "df.head()"
      ],
      "metadata": {
        "colab": {
          "base_uri": "https://localhost:8080/",
          "height": 302
        },
        "id": "WmEO_asobDGj",
        "outputId": "0539f1c1-d347-4b66-f8f5-09ced21a7dfe"
      },
      "execution_count": null,
      "outputs": [
        {
          "output_type": "execute_result",
          "data": {
            "text/plain": [
              "                                                 url  \\\n",
              "0  https://practicaldatascience.co.uk/data-scienc...   \n",
              "1  https://practicaldatascience.co.uk/data-scienc...   \n",
              "2  https://practicaldatascience.co.uk/machine-lea...   \n",
              "3  https://practicaldatascience.co.uk/machine-lea...   \n",
              "4  https://practicaldatascience.co.uk/machine-lea...   \n",
              "\n",
              "                                               title  \\\n",
              "0  How to create a Python virtual environment for...   \n",
              "1         How to engineer date features using Pandas   \n",
              "2  How to impute missing numeric values in your d...   \n",
              "3              How to interpret the confusion matrix   \n",
              "4  How to use mean encoding in your machine learn...   \n",
              "\n",
              "                                         description  \\\n",
              "0  Learn how to create a virtual environment for ...   \n",
              "1  In time series datasets dates often hold the k...   \n",
              "2  Cleverly filling in the gaps when numeric data...   \n",
              "3  The confusion matrix can tell you more about y...   \n",
              "4  Learn how to use the mean encoding technique t...   \n",
              "\n",
              "                                                text  \n",
              "0  How to create a Python virtual environment for...  \n",
              "1  How to engineer date features using Pandas In ...  \n",
              "2  How to impute missing numeric values in your d...  \n",
              "3  How to interpret the confusion matrix The conf...  \n",
              "4  How to use mean encoding in your machine learn...  "
            ],
            "text/html": [
              "\n",
              "\n",
              "  <div id=\"df-ab616ed2-6d5c-4fe1-8533-82bdc5bf0655\">\n",
              "    <div class=\"colab-df-container\">\n",
              "      <div>\n",
              "<style scoped>\n",
              "    .dataframe tbody tr th:only-of-type {\n",
              "        vertical-align: middle;\n",
              "    }\n",
              "\n",
              "    .dataframe tbody tr th {\n",
              "        vertical-align: top;\n",
              "    }\n",
              "\n",
              "    .dataframe thead th {\n",
              "        text-align: right;\n",
              "    }\n",
              "</style>\n",
              "<table border=\"1\" class=\"dataframe\">\n",
              "  <thead>\n",
              "    <tr style=\"text-align: right;\">\n",
              "      <th></th>\n",
              "      <th>url</th>\n",
              "      <th>title</th>\n",
              "      <th>description</th>\n",
              "      <th>text</th>\n",
              "    </tr>\n",
              "  </thead>\n",
              "  <tbody>\n",
              "    <tr>\n",
              "      <th>0</th>\n",
              "      <td>https://practicaldatascience.co.uk/data-scienc...</td>\n",
              "      <td>How to create a Python virtual environment for...</td>\n",
              "      <td>Learn how to create a virtual environment for ...</td>\n",
              "      <td>How to create a Python virtual environment for...</td>\n",
              "    </tr>\n",
              "    <tr>\n",
              "      <th>1</th>\n",
              "      <td>https://practicaldatascience.co.uk/data-scienc...</td>\n",
              "      <td>How to engineer date features using Pandas</td>\n",
              "      <td>In time series datasets dates often hold the k...</td>\n",
              "      <td>How to engineer date features using Pandas In ...</td>\n",
              "    </tr>\n",
              "    <tr>\n",
              "      <th>2</th>\n",
              "      <td>https://practicaldatascience.co.uk/machine-lea...</td>\n",
              "      <td>How to impute missing numeric values in your d...</td>\n",
              "      <td>Cleverly filling in the gaps when numeric data...</td>\n",
              "      <td>How to impute missing numeric values in your d...</td>\n",
              "    </tr>\n",
              "    <tr>\n",
              "      <th>3</th>\n",
              "      <td>https://practicaldatascience.co.uk/machine-lea...</td>\n",
              "      <td>How to interpret the confusion matrix</td>\n",
              "      <td>The confusion matrix can tell you more about y...</td>\n",
              "      <td>How to interpret the confusion matrix The conf...</td>\n",
              "    </tr>\n",
              "    <tr>\n",
              "      <th>4</th>\n",
              "      <td>https://practicaldatascience.co.uk/machine-lea...</td>\n",
              "      <td>How to use mean encoding in your machine learn...</td>\n",
              "      <td>Learn how to use the mean encoding technique t...</td>\n",
              "      <td>How to use mean encoding in your machine learn...</td>\n",
              "    </tr>\n",
              "  </tbody>\n",
              "</table>\n",
              "</div>\n",
              "      <button class=\"colab-df-convert\" onclick=\"convertToInteractive('df-ab616ed2-6d5c-4fe1-8533-82bdc5bf0655')\"\n",
              "              title=\"Convert this dataframe to an interactive table.\"\n",
              "              style=\"display:none;\">\n",
              "\n",
              "  <svg xmlns=\"http://www.w3.org/2000/svg\" height=\"24px\"viewBox=\"0 0 24 24\"\n",
              "       width=\"24px\">\n",
              "    <path d=\"M0 0h24v24H0V0z\" fill=\"none\"/>\n",
              "    <path d=\"M18.56 5.44l.94 2.06.94-2.06 2.06-.94-2.06-.94-.94-2.06-.94 2.06-2.06.94zm-11 1L8.5 8.5l.94-2.06 2.06-.94-2.06-.94L8.5 2.5l-.94 2.06-2.06.94zm10 10l.94 2.06.94-2.06 2.06-.94-2.06-.94-.94-2.06-.94 2.06-2.06.94z\"/><path d=\"M17.41 7.96l-1.37-1.37c-.4-.4-.92-.59-1.43-.59-.52 0-1.04.2-1.43.59L10.3 9.45l-7.72 7.72c-.78.78-.78 2.05 0 2.83L4 21.41c.39.39.9.59 1.41.59.51 0 1.02-.2 1.41-.59l7.78-7.78 2.81-2.81c.8-.78.8-2.07 0-2.86zM5.41 20L4 18.59l7.72-7.72 1.47 1.35L5.41 20z\"/>\n",
              "  </svg>\n",
              "      </button>\n",
              "\n",
              "\n",
              "\n",
              "    <div id=\"df-d0d219b7-d02a-441d-8d37-9599d2118d1d\">\n",
              "      <button class=\"colab-df-quickchart\" onclick=\"quickchart('df-d0d219b7-d02a-441d-8d37-9599d2118d1d')\"\n",
              "              title=\"Suggest charts.\"\n",
              "              style=\"display:none;\">\n",
              "\n",
              "<svg xmlns=\"http://www.w3.org/2000/svg\" height=\"24px\"viewBox=\"0 0 24 24\"\n",
              "     width=\"24px\">\n",
              "    <g>\n",
              "        <path d=\"M19 3H5c-1.1 0-2 .9-2 2v14c0 1.1.9 2 2 2h14c1.1 0 2-.9 2-2V5c0-1.1-.9-2-2-2zM9 17H7v-7h2v7zm4 0h-2V7h2v10zm4 0h-2v-4h2v4z\"/>\n",
              "    </g>\n",
              "</svg>\n",
              "      </button>\n",
              "    </div>\n",
              "\n",
              "<style>\n",
              "  .colab-df-quickchart {\n",
              "    background-color: #E8F0FE;\n",
              "    border: none;\n",
              "    border-radius: 50%;\n",
              "    cursor: pointer;\n",
              "    display: none;\n",
              "    fill: #1967D2;\n",
              "    height: 32px;\n",
              "    padding: 0 0 0 0;\n",
              "    width: 32px;\n",
              "  }\n",
              "\n",
              "  .colab-df-quickchart:hover {\n",
              "    background-color: #E2EBFA;\n",
              "    box-shadow: 0px 1px 2px rgba(60, 64, 67, 0.3), 0px 1px 3px 1px rgba(60, 64, 67, 0.15);\n",
              "    fill: #174EA6;\n",
              "  }\n",
              "\n",
              "  [theme=dark] .colab-df-quickchart {\n",
              "    background-color: #3B4455;\n",
              "    fill: #D2E3FC;\n",
              "  }\n",
              "\n",
              "  [theme=dark] .colab-df-quickchart:hover {\n",
              "    background-color: #434B5C;\n",
              "    box-shadow: 0px 1px 3px 1px rgba(0, 0, 0, 0.15);\n",
              "    filter: drop-shadow(0px 1px 2px rgba(0, 0, 0, 0.3));\n",
              "    fill: #FFFFFF;\n",
              "  }\n",
              "</style>\n",
              "\n",
              "    <script>\n",
              "      async function quickchart(key) {\n",
              "        const containerElement = document.querySelector('#' + key);\n",
              "        const charts = await google.colab.kernel.invokeFunction(\n",
              "            'suggestCharts', [key], {});\n",
              "      }\n",
              "    </script>\n",
              "\n",
              "      <script>\n",
              "\n",
              "function displayQuickchartButton(domScope) {\n",
              "  let quickchartButtonEl =\n",
              "    domScope.querySelector('#df-d0d219b7-d02a-441d-8d37-9599d2118d1d button.colab-df-quickchart');\n",
              "  quickchartButtonEl.style.display =\n",
              "    google.colab.kernel.accessAllowed ? 'block' : 'none';\n",
              "}\n",
              "\n",
              "        displayQuickchartButton(document);\n",
              "      </script>\n",
              "      <style>\n",
              "    .colab-df-container {\n",
              "      display:flex;\n",
              "      flex-wrap:wrap;\n",
              "      gap: 12px;\n",
              "    }\n",
              "\n",
              "    .colab-df-convert {\n",
              "      background-color: #E8F0FE;\n",
              "      border: none;\n",
              "      border-radius: 50%;\n",
              "      cursor: pointer;\n",
              "      display: none;\n",
              "      fill: #1967D2;\n",
              "      height: 32px;\n",
              "      padding: 0 0 0 0;\n",
              "      width: 32px;\n",
              "    }\n",
              "\n",
              "    .colab-df-convert:hover {\n",
              "      background-color: #E2EBFA;\n",
              "      box-shadow: 0px 1px 2px rgba(60, 64, 67, 0.3), 0px 1px 3px 1px rgba(60, 64, 67, 0.15);\n",
              "      fill: #174EA6;\n",
              "    }\n",
              "\n",
              "    [theme=dark] .colab-df-convert {\n",
              "      background-color: #3B4455;\n",
              "      fill: #D2E3FC;\n",
              "    }\n",
              "\n",
              "    [theme=dark] .colab-df-convert:hover {\n",
              "      background-color: #434B5C;\n",
              "      box-shadow: 0px 1px 3px 1px rgba(0, 0, 0, 0.15);\n",
              "      filter: drop-shadow(0px 1px 2px rgba(0, 0, 0, 0.3));\n",
              "      fill: #FFFFFF;\n",
              "    }\n",
              "  </style>\n",
              "\n",
              "      <script>\n",
              "        const buttonEl =\n",
              "          document.querySelector('#df-ab616ed2-6d5c-4fe1-8533-82bdc5bf0655 button.colab-df-convert');\n",
              "        buttonEl.style.display =\n",
              "          google.colab.kernel.accessAllowed ? 'block' : 'none';\n",
              "\n",
              "        async function convertToInteractive(key) {\n",
              "          const element = document.querySelector('#df-ab616ed2-6d5c-4fe1-8533-82bdc5bf0655');\n",
              "          const dataTable =\n",
              "            await google.colab.kernel.invokeFunction('convertToInteractive',\n",
              "                                                     [key], {});\n",
              "          if (!dataTable) return;\n",
              "\n",
              "          const docLinkHtml = 'Like what you see? Visit the ' +\n",
              "            '<a target=\"_blank\" href=https://colab.research.google.com/notebooks/data_table.ipynb>data table notebook</a>'\n",
              "            + ' to learn more about interactive tables.';\n",
              "          element.innerHTML = '';\n",
              "          dataTable['output_type'] = 'display_data';\n",
              "          await google.colab.output.renderOutput(dataTable, element);\n",
              "          const docLink = document.createElement('div');\n",
              "          docLink.innerHTML = docLinkHtml;\n",
              "          element.appendChild(docLink);\n",
              "        }\n",
              "      </script>\n",
              "    </div>\n",
              "  </div>\n"
            ]
          },
          "metadata": {},
          "execution_count": 21
        }
      ]
    },
    {
      "cell_type": "code",
      "source": [
        "df['text'].dropna(inplace=True)\n",
        "df['text'] = df['text'].astype(str)\n",
        "df.head()"
      ],
      "metadata": {
        "colab": {
          "base_uri": "https://localhost:8080/",
          "height": 302
        },
        "id": "BO9H4K_mbSW2",
        "outputId": "e687ccb0-6952-44e9-8775-4dbb0f52c200"
      },
      "execution_count": null,
      "outputs": [
        {
          "output_type": "execute_result",
          "data": {
            "text/plain": [
              "                                                 url  \\\n",
              "0  https://practicaldatascience.co.uk/data-scienc...   \n",
              "1  https://practicaldatascience.co.uk/data-scienc...   \n",
              "2  https://practicaldatascience.co.uk/machine-lea...   \n",
              "3  https://practicaldatascience.co.uk/machine-lea...   \n",
              "4  https://practicaldatascience.co.uk/machine-lea...   \n",
              "\n",
              "                                               title  \\\n",
              "0  How to create a Python virtual environment for...   \n",
              "1         How to engineer date features using Pandas   \n",
              "2  How to impute missing numeric values in your d...   \n",
              "3              How to interpret the confusion matrix   \n",
              "4  How to use mean encoding in your machine learn...   \n",
              "\n",
              "                                         description  \\\n",
              "0  Learn how to create a virtual environment for ...   \n",
              "1  In time series datasets dates often hold the k...   \n",
              "2  Cleverly filling in the gaps when numeric data...   \n",
              "3  The confusion matrix can tell you more about y...   \n",
              "4  Learn how to use the mean encoding technique t...   \n",
              "\n",
              "                                                text  \n",
              "0  How to create a Python virtual environment for...  \n",
              "1  How to engineer date features using Pandas In ...  \n",
              "2  How to impute missing numeric values in your d...  \n",
              "3  How to interpret the confusion matrix The conf...  \n",
              "4  How to use mean encoding in your machine learn...  "
            ],
            "text/html": [
              "\n",
              "\n",
              "  <div id=\"df-e8313c51-5e0f-491e-b632-c1fb00c053cc\">\n",
              "    <div class=\"colab-df-container\">\n",
              "      <div>\n",
              "<style scoped>\n",
              "    .dataframe tbody tr th:only-of-type {\n",
              "        vertical-align: middle;\n",
              "    }\n",
              "\n",
              "    .dataframe tbody tr th {\n",
              "        vertical-align: top;\n",
              "    }\n",
              "\n",
              "    .dataframe thead th {\n",
              "        text-align: right;\n",
              "    }\n",
              "</style>\n",
              "<table border=\"1\" class=\"dataframe\">\n",
              "  <thead>\n",
              "    <tr style=\"text-align: right;\">\n",
              "      <th></th>\n",
              "      <th>url</th>\n",
              "      <th>title</th>\n",
              "      <th>description</th>\n",
              "      <th>text</th>\n",
              "    </tr>\n",
              "  </thead>\n",
              "  <tbody>\n",
              "    <tr>\n",
              "      <th>0</th>\n",
              "      <td>https://practicaldatascience.co.uk/data-scienc...</td>\n",
              "      <td>How to create a Python virtual environment for...</td>\n",
              "      <td>Learn how to create a virtual environment for ...</td>\n",
              "      <td>How to create a Python virtual environment for...</td>\n",
              "    </tr>\n",
              "    <tr>\n",
              "      <th>1</th>\n",
              "      <td>https://practicaldatascience.co.uk/data-scienc...</td>\n",
              "      <td>How to engineer date features using Pandas</td>\n",
              "      <td>In time series datasets dates often hold the k...</td>\n",
              "      <td>How to engineer date features using Pandas In ...</td>\n",
              "    </tr>\n",
              "    <tr>\n",
              "      <th>2</th>\n",
              "      <td>https://practicaldatascience.co.uk/machine-lea...</td>\n",
              "      <td>How to impute missing numeric values in your d...</td>\n",
              "      <td>Cleverly filling in the gaps when numeric data...</td>\n",
              "      <td>How to impute missing numeric values in your d...</td>\n",
              "    </tr>\n",
              "    <tr>\n",
              "      <th>3</th>\n",
              "      <td>https://practicaldatascience.co.uk/machine-lea...</td>\n",
              "      <td>How to interpret the confusion matrix</td>\n",
              "      <td>The confusion matrix can tell you more about y...</td>\n",
              "      <td>How to interpret the confusion matrix The conf...</td>\n",
              "    </tr>\n",
              "    <tr>\n",
              "      <th>4</th>\n",
              "      <td>https://practicaldatascience.co.uk/machine-lea...</td>\n",
              "      <td>How to use mean encoding in your machine learn...</td>\n",
              "      <td>Learn how to use the mean encoding technique t...</td>\n",
              "      <td>How to use mean encoding in your machine learn...</td>\n",
              "    </tr>\n",
              "  </tbody>\n",
              "</table>\n",
              "</div>\n",
              "      <button class=\"colab-df-convert\" onclick=\"convertToInteractive('df-e8313c51-5e0f-491e-b632-c1fb00c053cc')\"\n",
              "              title=\"Convert this dataframe to an interactive table.\"\n",
              "              style=\"display:none;\">\n",
              "\n",
              "  <svg xmlns=\"http://www.w3.org/2000/svg\" height=\"24px\"viewBox=\"0 0 24 24\"\n",
              "       width=\"24px\">\n",
              "    <path d=\"M0 0h24v24H0V0z\" fill=\"none\"/>\n",
              "    <path d=\"M18.56 5.44l.94 2.06.94-2.06 2.06-.94-2.06-.94-.94-2.06-.94 2.06-2.06.94zm-11 1L8.5 8.5l.94-2.06 2.06-.94-2.06-.94L8.5 2.5l-.94 2.06-2.06.94zm10 10l.94 2.06.94-2.06 2.06-.94-2.06-.94-.94-2.06-.94 2.06-2.06.94z\"/><path d=\"M17.41 7.96l-1.37-1.37c-.4-.4-.92-.59-1.43-.59-.52 0-1.04.2-1.43.59L10.3 9.45l-7.72 7.72c-.78.78-.78 2.05 0 2.83L4 21.41c.39.39.9.59 1.41.59.51 0 1.02-.2 1.41-.59l7.78-7.78 2.81-2.81c.8-.78.8-2.07 0-2.86zM5.41 20L4 18.59l7.72-7.72 1.47 1.35L5.41 20z\"/>\n",
              "  </svg>\n",
              "      </button>\n",
              "\n",
              "\n",
              "\n",
              "    <div id=\"df-e70616f4-5879-4706-9de4-6d5c5c8770eb\">\n",
              "      <button class=\"colab-df-quickchart\" onclick=\"quickchart('df-e70616f4-5879-4706-9de4-6d5c5c8770eb')\"\n",
              "              title=\"Suggest charts.\"\n",
              "              style=\"display:none;\">\n",
              "\n",
              "<svg xmlns=\"http://www.w3.org/2000/svg\" height=\"24px\"viewBox=\"0 0 24 24\"\n",
              "     width=\"24px\">\n",
              "    <g>\n",
              "        <path d=\"M19 3H5c-1.1 0-2 .9-2 2v14c0 1.1.9 2 2 2h14c1.1 0 2-.9 2-2V5c0-1.1-.9-2-2-2zM9 17H7v-7h2v7zm4 0h-2V7h2v10zm4 0h-2v-4h2v4z\"/>\n",
              "    </g>\n",
              "</svg>\n",
              "      </button>\n",
              "    </div>\n",
              "\n",
              "<style>\n",
              "  .colab-df-quickchart {\n",
              "    background-color: #E8F0FE;\n",
              "    border: none;\n",
              "    border-radius: 50%;\n",
              "    cursor: pointer;\n",
              "    display: none;\n",
              "    fill: #1967D2;\n",
              "    height: 32px;\n",
              "    padding: 0 0 0 0;\n",
              "    width: 32px;\n",
              "  }\n",
              "\n",
              "  .colab-df-quickchart:hover {\n",
              "    background-color: #E2EBFA;\n",
              "    box-shadow: 0px 1px 2px rgba(60, 64, 67, 0.3), 0px 1px 3px 1px rgba(60, 64, 67, 0.15);\n",
              "    fill: #174EA6;\n",
              "  }\n",
              "\n",
              "  [theme=dark] .colab-df-quickchart {\n",
              "    background-color: #3B4455;\n",
              "    fill: #D2E3FC;\n",
              "  }\n",
              "\n",
              "  [theme=dark] .colab-df-quickchart:hover {\n",
              "    background-color: #434B5C;\n",
              "    box-shadow: 0px 1px 3px 1px rgba(0, 0, 0, 0.15);\n",
              "    filter: drop-shadow(0px 1px 2px rgba(0, 0, 0, 0.3));\n",
              "    fill: #FFFFFF;\n",
              "  }\n",
              "</style>\n",
              "\n",
              "    <script>\n",
              "      async function quickchart(key) {\n",
              "        const containerElement = document.querySelector('#' + key);\n",
              "        const charts = await google.colab.kernel.invokeFunction(\n",
              "            'suggestCharts', [key], {});\n",
              "      }\n",
              "    </script>\n",
              "\n",
              "      <script>\n",
              "\n",
              "function displayQuickchartButton(domScope) {\n",
              "  let quickchartButtonEl =\n",
              "    domScope.querySelector('#df-e70616f4-5879-4706-9de4-6d5c5c8770eb button.colab-df-quickchart');\n",
              "  quickchartButtonEl.style.display =\n",
              "    google.colab.kernel.accessAllowed ? 'block' : 'none';\n",
              "}\n",
              "\n",
              "        displayQuickchartButton(document);\n",
              "      </script>\n",
              "      <style>\n",
              "    .colab-df-container {\n",
              "      display:flex;\n",
              "      flex-wrap:wrap;\n",
              "      gap: 12px;\n",
              "    }\n",
              "\n",
              "    .colab-df-convert {\n",
              "      background-color: #E8F0FE;\n",
              "      border: none;\n",
              "      border-radius: 50%;\n",
              "      cursor: pointer;\n",
              "      display: none;\n",
              "      fill: #1967D2;\n",
              "      height: 32px;\n",
              "      padding: 0 0 0 0;\n",
              "      width: 32px;\n",
              "    }\n",
              "\n",
              "    .colab-df-convert:hover {\n",
              "      background-color: #E2EBFA;\n",
              "      box-shadow: 0px 1px 2px rgba(60, 64, 67, 0.3), 0px 1px 3px 1px rgba(60, 64, 67, 0.15);\n",
              "      fill: #174EA6;\n",
              "    }\n",
              "\n",
              "    [theme=dark] .colab-df-convert {\n",
              "      background-color: #3B4455;\n",
              "      fill: #D2E3FC;\n",
              "    }\n",
              "\n",
              "    [theme=dark] .colab-df-convert:hover {\n",
              "      background-color: #434B5C;\n",
              "      box-shadow: 0px 1px 3px 1px rgba(0, 0, 0, 0.15);\n",
              "      filter: drop-shadow(0px 1px 2px rgba(0, 0, 0, 0.3));\n",
              "      fill: #FFFFFF;\n",
              "    }\n",
              "  </style>\n",
              "\n",
              "      <script>\n",
              "        const buttonEl =\n",
              "          document.querySelector('#df-e8313c51-5e0f-491e-b632-c1fb00c053cc button.colab-df-convert');\n",
              "        buttonEl.style.display =\n",
              "          google.colab.kernel.accessAllowed ? 'block' : 'none';\n",
              "\n",
              "        async function convertToInteractive(key) {\n",
              "          const element = document.querySelector('#df-e8313c51-5e0f-491e-b632-c1fb00c053cc');\n",
              "          const dataTable =\n",
              "            await google.colab.kernel.invokeFunction('convertToInteractive',\n",
              "                                                     [key], {});\n",
              "          if (!dataTable) return;\n",
              "\n",
              "          const docLinkHtml = 'Like what you see? Visit the ' +\n",
              "            '<a target=\"_blank\" href=https://colab.research.google.com/notebooks/data_table.ipynb>data table notebook</a>'\n",
              "            + ' to learn more about interactive tables.';\n",
              "          element.innerHTML = '';\n",
              "          dataTable['output_type'] = 'display_data';\n",
              "          await google.colab.output.renderOutput(dataTable, element);\n",
              "          const docLink = document.createElement('div');\n",
              "          docLink.innerHTML = docLinkHtml;\n",
              "          element.appendChild(docLink);\n",
              "        }\n",
              "      </script>\n",
              "    </div>\n",
              "  </div>\n"
            ]
          },
          "metadata": {},
          "execution_count": 28
        }
      ]
    },
    {
      "cell_type": "code",
      "source": [
        "df['tokenized_sents'] = df.apply(lambda row: word_tokenize(row['text']), axis=1)\n",
        "df['tokenized_sents']"
      ],
      "metadata": {
        "colab": {
          "base_uri": "https://localhost:8080/"
        },
        "id": "BzyGAjr-btNA",
        "outputId": "284400b0-797b-4312-9b82-79180fad795c"
      },
      "execution_count": null,
      "outputs": [
        {
          "output_type": "execute_result",
          "data": {
            "text/plain": [
              "0      [How, to, create, a, Python, virtual, environm...\n",
              "1      [How, to, engineer, date, features, using, Pan...\n",
              "2      [How, to, impute, missing, numeric, values, in...\n",
              "3      [How, to, interpret, the, confusion, matrix, T...\n",
              "4      [How, to, use, mean, encoding, in, your, machi...\n",
              "                             ...                        \n",
              "217    [Practical, Data, Science, Practical, Data, Sc...\n",
              "218    [Practical, Data, Science, Practical, Data, Sc...\n",
              "219    [Practical, Data, Science, Practical, Data, Sc...\n",
              "220    [Practical, Data, Science, Practical, Data, Sc...\n",
              "221                                                [nan]\n",
              "Name: tokenized_sents, Length: 222, dtype: object"
            ]
          },
          "metadata": {},
          "execution_count": 34
        }
      ]
    },
    {
      "cell_type": "code",
      "source": [
        "df.head()"
      ],
      "metadata": {
        "colab": {
          "base_uri": "https://localhost:8080/",
          "height": 337
        },
        "id": "Y-GG_XrKeC-7",
        "outputId": "e94d3533-c3f1-4a51-b9c2-d1b1f94fa686"
      },
      "execution_count": null,
      "outputs": [
        {
          "output_type": "execute_result",
          "data": {
            "text/plain": [
              "                                                 url  \\\n",
              "0  https://practicaldatascience.co.uk/data-scienc...   \n",
              "1  https://practicaldatascience.co.uk/data-scienc...   \n",
              "2  https://practicaldatascience.co.uk/machine-lea...   \n",
              "3  https://practicaldatascience.co.uk/machine-lea...   \n",
              "4  https://practicaldatascience.co.uk/machine-lea...   \n",
              "\n",
              "                                               title  \\\n",
              "0  How to create a Python virtual environment for...   \n",
              "1         How to engineer date features using Pandas   \n",
              "2  How to impute missing numeric values in your d...   \n",
              "3              How to interpret the confusion matrix   \n",
              "4  How to use mean encoding in your machine learn...   \n",
              "\n",
              "                                         description  \\\n",
              "0  Learn how to create a virtual environment for ...   \n",
              "1  In time series datasets dates often hold the k...   \n",
              "2  Cleverly filling in the gaps when numeric data...   \n",
              "3  The confusion matrix can tell you more about y...   \n",
              "4  Learn how to use the mean encoding technique t...   \n",
              "\n",
              "                                                text  \\\n",
              "0  How to create a Python virtual environment for...   \n",
              "1  How to engineer date features using Pandas In ...   \n",
              "2  How to impute missing numeric values in your d...   \n",
              "3  How to interpret the confusion matrix The conf...   \n",
              "4  How to use mean encoding in your machine learn...   \n",
              "\n",
              "                                     tokenized_sents  \n",
              "0  [How, to, create, a, Python, virtual, environm...  \n",
              "1  [How, to, engineer, date, features, using, Pan...  \n",
              "2  [How, to, impute, missing, numeric, values, in...  \n",
              "3  [How, to, interpret, the, confusion, matrix, T...  \n",
              "4  [How, to, use, mean, encoding, in, your, machi...  "
            ],
            "text/html": [
              "\n",
              "\n",
              "  <div id=\"df-cdcaaab7-b0fd-4f23-8c48-fc7a3f7ee951\">\n",
              "    <div class=\"colab-df-container\">\n",
              "      <div>\n",
              "<style scoped>\n",
              "    .dataframe tbody tr th:only-of-type {\n",
              "        vertical-align: middle;\n",
              "    }\n",
              "\n",
              "    .dataframe tbody tr th {\n",
              "        vertical-align: top;\n",
              "    }\n",
              "\n",
              "    .dataframe thead th {\n",
              "        text-align: right;\n",
              "    }\n",
              "</style>\n",
              "<table border=\"1\" class=\"dataframe\">\n",
              "  <thead>\n",
              "    <tr style=\"text-align: right;\">\n",
              "      <th></th>\n",
              "      <th>url</th>\n",
              "      <th>title</th>\n",
              "      <th>description</th>\n",
              "      <th>text</th>\n",
              "      <th>tokenized_sents</th>\n",
              "    </tr>\n",
              "  </thead>\n",
              "  <tbody>\n",
              "    <tr>\n",
              "      <th>0</th>\n",
              "      <td>https://practicaldatascience.co.uk/data-scienc...</td>\n",
              "      <td>How to create a Python virtual environment for...</td>\n",
              "      <td>Learn how to create a virtual environment for ...</td>\n",
              "      <td>How to create a Python virtual environment for...</td>\n",
              "      <td>[How, to, create, a, Python, virtual, environm...</td>\n",
              "    </tr>\n",
              "    <tr>\n",
              "      <th>1</th>\n",
              "      <td>https://practicaldatascience.co.uk/data-scienc...</td>\n",
              "      <td>How to engineer date features using Pandas</td>\n",
              "      <td>In time series datasets dates often hold the k...</td>\n",
              "      <td>How to engineer date features using Pandas In ...</td>\n",
              "      <td>[How, to, engineer, date, features, using, Pan...</td>\n",
              "    </tr>\n",
              "    <tr>\n",
              "      <th>2</th>\n",
              "      <td>https://practicaldatascience.co.uk/machine-lea...</td>\n",
              "      <td>How to impute missing numeric values in your d...</td>\n",
              "      <td>Cleverly filling in the gaps when numeric data...</td>\n",
              "      <td>How to impute missing numeric values in your d...</td>\n",
              "      <td>[How, to, impute, missing, numeric, values, in...</td>\n",
              "    </tr>\n",
              "    <tr>\n",
              "      <th>3</th>\n",
              "      <td>https://practicaldatascience.co.uk/machine-lea...</td>\n",
              "      <td>How to interpret the confusion matrix</td>\n",
              "      <td>The confusion matrix can tell you more about y...</td>\n",
              "      <td>How to interpret the confusion matrix The conf...</td>\n",
              "      <td>[How, to, interpret, the, confusion, matrix, T...</td>\n",
              "    </tr>\n",
              "    <tr>\n",
              "      <th>4</th>\n",
              "      <td>https://practicaldatascience.co.uk/machine-lea...</td>\n",
              "      <td>How to use mean encoding in your machine learn...</td>\n",
              "      <td>Learn how to use the mean encoding technique t...</td>\n",
              "      <td>How to use mean encoding in your machine learn...</td>\n",
              "      <td>[How, to, use, mean, encoding, in, your, machi...</td>\n",
              "    </tr>\n",
              "  </tbody>\n",
              "</table>\n",
              "</div>\n",
              "      <button class=\"colab-df-convert\" onclick=\"convertToInteractive('df-cdcaaab7-b0fd-4f23-8c48-fc7a3f7ee951')\"\n",
              "              title=\"Convert this dataframe to an interactive table.\"\n",
              "              style=\"display:none;\">\n",
              "\n",
              "  <svg xmlns=\"http://www.w3.org/2000/svg\" height=\"24px\"viewBox=\"0 0 24 24\"\n",
              "       width=\"24px\">\n",
              "    <path d=\"M0 0h24v24H0V0z\" fill=\"none\"/>\n",
              "    <path d=\"M18.56 5.44l.94 2.06.94-2.06 2.06-.94-2.06-.94-.94-2.06-.94 2.06-2.06.94zm-11 1L8.5 8.5l.94-2.06 2.06-.94-2.06-.94L8.5 2.5l-.94 2.06-2.06.94zm10 10l.94 2.06.94-2.06 2.06-.94-2.06-.94-.94-2.06-.94 2.06-2.06.94z\"/><path d=\"M17.41 7.96l-1.37-1.37c-.4-.4-.92-.59-1.43-.59-.52 0-1.04.2-1.43.59L10.3 9.45l-7.72 7.72c-.78.78-.78 2.05 0 2.83L4 21.41c.39.39.9.59 1.41.59.51 0 1.02-.2 1.41-.59l7.78-7.78 2.81-2.81c.8-.78.8-2.07 0-2.86zM5.41 20L4 18.59l7.72-7.72 1.47 1.35L5.41 20z\"/>\n",
              "  </svg>\n",
              "      </button>\n",
              "\n",
              "\n",
              "\n",
              "    <div id=\"df-fc216adb-1106-4078-b8ea-6dd480b504e1\">\n",
              "      <button class=\"colab-df-quickchart\" onclick=\"quickchart('df-fc216adb-1106-4078-b8ea-6dd480b504e1')\"\n",
              "              title=\"Suggest charts.\"\n",
              "              style=\"display:none;\">\n",
              "\n",
              "<svg xmlns=\"http://www.w3.org/2000/svg\" height=\"24px\"viewBox=\"0 0 24 24\"\n",
              "     width=\"24px\">\n",
              "    <g>\n",
              "        <path d=\"M19 3H5c-1.1 0-2 .9-2 2v14c0 1.1.9 2 2 2h14c1.1 0 2-.9 2-2V5c0-1.1-.9-2-2-2zM9 17H7v-7h2v7zm4 0h-2V7h2v10zm4 0h-2v-4h2v4z\"/>\n",
              "    </g>\n",
              "</svg>\n",
              "      </button>\n",
              "    </div>\n",
              "\n",
              "<style>\n",
              "  .colab-df-quickchart {\n",
              "    background-color: #E8F0FE;\n",
              "    border: none;\n",
              "    border-radius: 50%;\n",
              "    cursor: pointer;\n",
              "    display: none;\n",
              "    fill: #1967D2;\n",
              "    height: 32px;\n",
              "    padding: 0 0 0 0;\n",
              "    width: 32px;\n",
              "  }\n",
              "\n",
              "  .colab-df-quickchart:hover {\n",
              "    background-color: #E2EBFA;\n",
              "    box-shadow: 0px 1px 2px rgba(60, 64, 67, 0.3), 0px 1px 3px 1px rgba(60, 64, 67, 0.15);\n",
              "    fill: #174EA6;\n",
              "  }\n",
              "\n",
              "  [theme=dark] .colab-df-quickchart {\n",
              "    background-color: #3B4455;\n",
              "    fill: #D2E3FC;\n",
              "  }\n",
              "\n",
              "  [theme=dark] .colab-df-quickchart:hover {\n",
              "    background-color: #434B5C;\n",
              "    box-shadow: 0px 1px 3px 1px rgba(0, 0, 0, 0.15);\n",
              "    filter: drop-shadow(0px 1px 2px rgba(0, 0, 0, 0.3));\n",
              "    fill: #FFFFFF;\n",
              "  }\n",
              "</style>\n",
              "\n",
              "    <script>\n",
              "      async function quickchart(key) {\n",
              "        const containerElement = document.querySelector('#' + key);\n",
              "        const charts = await google.colab.kernel.invokeFunction(\n",
              "            'suggestCharts', [key], {});\n",
              "      }\n",
              "    </script>\n",
              "\n",
              "      <script>\n",
              "\n",
              "function displayQuickchartButton(domScope) {\n",
              "  let quickchartButtonEl =\n",
              "    domScope.querySelector('#df-fc216adb-1106-4078-b8ea-6dd480b504e1 button.colab-df-quickchart');\n",
              "  quickchartButtonEl.style.display =\n",
              "    google.colab.kernel.accessAllowed ? 'block' : 'none';\n",
              "}\n",
              "\n",
              "        displayQuickchartButton(document);\n",
              "      </script>\n",
              "      <style>\n",
              "    .colab-df-container {\n",
              "      display:flex;\n",
              "      flex-wrap:wrap;\n",
              "      gap: 12px;\n",
              "    }\n",
              "\n",
              "    .colab-df-convert {\n",
              "      background-color: #E8F0FE;\n",
              "      border: none;\n",
              "      border-radius: 50%;\n",
              "      cursor: pointer;\n",
              "      display: none;\n",
              "      fill: #1967D2;\n",
              "      height: 32px;\n",
              "      padding: 0 0 0 0;\n",
              "      width: 32px;\n",
              "    }\n",
              "\n",
              "    .colab-df-convert:hover {\n",
              "      background-color: #E2EBFA;\n",
              "      box-shadow: 0px 1px 2px rgba(60, 64, 67, 0.3), 0px 1px 3px 1px rgba(60, 64, 67, 0.15);\n",
              "      fill: #174EA6;\n",
              "    }\n",
              "\n",
              "    [theme=dark] .colab-df-convert {\n",
              "      background-color: #3B4455;\n",
              "      fill: #D2E3FC;\n",
              "    }\n",
              "\n",
              "    [theme=dark] .colab-df-convert:hover {\n",
              "      background-color: #434B5C;\n",
              "      box-shadow: 0px 1px 3px 1px rgba(0, 0, 0, 0.15);\n",
              "      filter: drop-shadow(0px 1px 2px rgba(0, 0, 0, 0.3));\n",
              "      fill: #FFFFFF;\n",
              "    }\n",
              "  </style>\n",
              "\n",
              "      <script>\n",
              "        const buttonEl =\n",
              "          document.querySelector('#df-cdcaaab7-b0fd-4f23-8c48-fc7a3f7ee951 button.colab-df-convert');\n",
              "        buttonEl.style.display =\n",
              "          google.colab.kernel.accessAllowed ? 'block' : 'none';\n",
              "\n",
              "        async function convertToInteractive(key) {\n",
              "          const element = document.querySelector('#df-cdcaaab7-b0fd-4f23-8c48-fc7a3f7ee951');\n",
              "          const dataTable =\n",
              "            await google.colab.kernel.invokeFunction('convertToInteractive',\n",
              "                                                     [key], {});\n",
              "          if (!dataTable) return;\n",
              "\n",
              "          const docLinkHtml = 'Like what you see? Visit the ' +\n",
              "            '<a target=\"_blank\" href=https://colab.research.google.com/notebooks/data_table.ipynb>data table notebook</a>'\n",
              "            + ' to learn more about interactive tables.';\n",
              "          element.innerHTML = '';\n",
              "          dataTable['output_type'] = 'display_data';\n",
              "          await google.colab.output.renderOutput(dataTable, element);\n",
              "          const docLink = document.createElement('div');\n",
              "          docLink.innerHTML = docLinkHtml;\n",
              "          element.appendChild(docLink);\n",
              "        }\n",
              "      </script>\n",
              "    </div>\n",
              "  </div>\n"
            ]
          },
          "metadata": {},
          "execution_count": 35
        }
      ]
    },
    {
      "cell_type": "markdown",
      "source": [
        "## Whitespace Tokenizer"
      ],
      "metadata": {
        "id": "fCMeZ4TXc3ts"
      }
    },
    {
      "cell_type": "code",
      "source": [
        "str = \"\"\"Lorem ipsum dolor sit amet, consectetur adipiscing elit. Morbi id erat eleifend, vehicula massa malesuada, rutrum justo. Mauris id purus erat. Ut et gravida urna. Nam eu metus dignissim, vehicula augue et, euismod urna. Sed convallis varius convallis. Curabitur blandit enim sit amet tempus tempor. Suspendisse ullamcorper eget dui quis euismod. Aenean id turpis diam. Phasellus lacus magna, mollis non mattis vel, pellentesque in erat. Suspendisse neque elit, posuere vitae ligula gravida, tincidunt vestibulum enim. Mauris sit amet condimentum risus, eget ullamcorper lectus.\n",
        "\n",
        "Vivamus vel magna tempor metus sagittis vehicula. Duis ultrices dapibus neque ut eleifend. Nulla nibh dolor, vehicula suscipit egestas et, finibus vel justo. Donec sed molestie tellus, a condimentum lectus. Ut efficitur quis urna quis mattis. Nam at orci diam. Proin sit amet nisi sed lectus fringilla interdum. Mauris facilisis libero vel velit accumsan, non condimentum ex malesuada. Phasellus eros felis, consectetur vitae dolor sit amet, gravida iaculis eros. Maecenas varius mi augue, nec ornare turpis pulvinar vitae. Cras in magna hendrerit, dapibus sapien dictum, bibendum felis. Aenean maximus nec ligula sit amet congue. Integer purus urna, porttitor ut lorem vitae, imperdiet ornare massa. Duis pellentesque vulputate nibh in congue.\n",
        "\n",
        "Ut pharetra imperdiet ultricies. Suspendisse purus leo, sollicitudin hendrerit nulla in, ullamcorper finibus mauris. Aliquam tincidunt eros eget enim lobortis gravida. Nullam egestas id ante sed ullamcorper. Aliquam ut gravida nibh. Fusce at tellus suscipit, ultricies elit in, tincidunt ligula. Aenean semper ligula risus, vitae sodales tortor sollicitudin eget. Ut suscipit vel tortor sed ullamcorper. Quisque viverra ex mi, pretium dapibus lorem dignissim ut. Phasellus eget pharetra lectus. Ut ornare erat commodo purus volutpat auctor. Vestibulum rutrum, turpis ac efficitur consequat, metus nunc ornare nulla, ac commodo mauris lectus pretium velit. Nam sagittis nulla nec sem maximus malesuada in sed tortor. Class aptent taciti sociosqu ad litora torquent per conubia nostra, per inceptos himenaeos. Pellentesque rhoncus arcu lorem, id iaculis lectus varius sit amet. Donec ante ex, consectetur vel eleifend sit amet, sollicitudin vitae dui.\n",
        "\n",
        "Nam in libero dignissim, iaculis sem ut, posuere nulla. Phasellus sit amet vestibulum nulla, sed egestas arcu. Nunc dignissim ligula vel molestie consectetur. Sed non risus varius justo auctor sollicitudin. Phasellus in orci erat. Praesent feugiat vestibulum lorem, quis gravida mi posuere at. Integer sagittis mattis nibh. Nunc molestie tristique laoreet. Donec eget massa semper risus aliquet ornare. Vivamus id aliquet elit. Nam ornare velit eget venenatis laoreet. Quisque tincidunt libero magna, ac sodales neque interdum in. In malesuada risus vitae laoreet posuere. Vestibulum ante ipsum primis in faucibus orci luctus et ultrices posuere cubilia curae; Nam eu metus leo.\n",
        "\n",
        "Fusce porta elit risus, cursus blandit enim dictum nec. Aliquam eu quam in purus mattis tempor in non quam. Maecenas dapibus nulla vel aliquam semper. Donec id molestie sem. Aenean a lacus vel diam venenatis condimentum ut nec quam. Sed ut metus ac ipsum facilisis venenatis. Sed ut lectus at est hendrerit aliquet. Vestibulum ac leo aliquam, interdum elit quis, porttitor justo. Suspendisse luctus eros non lacinia lacinia. Donec et ligula ut sapien vulputate placerat. Interdum et malesuada fames ac ante ipsum primis in faucibus. Quisque ac nunc eu nisi elementum rutrum. Nulla quis dapibus nibh, sed euismod orci.\"\"\""
      ],
      "metadata": {
        "id": "2xeH-TkKchP8"
      },
      "execution_count": null,
      "outputs": []
    },
    {
      "cell_type": "code",
      "source": [
        "from nltk.tokenize import WhitespaceTokenizer\n",
        "tk = WhitespaceTokenizer()\n",
        "\n",
        "# Create a string input\n",
        "\n",
        "\n",
        "# Use tokenize method\n",
        "whitespace_tokens = tk.tokenize(str)\n",
        "\n",
        "print(whitespace_tokens)"
      ],
      "metadata": {
        "colab": {
          "base_uri": "https://localhost:8080/"
        },
        "id": "RHylz6nob2au",
        "outputId": "166d4950-cf4b-4154-b0b0-c07035051272"
      },
      "execution_count": null,
      "outputs": [
        {
          "output_type": "stream",
          "name": "stdout",
          "text": [
            "['Lorem', 'ipsum', 'dolor', 'sit', 'amet,', 'consectetur', 'adipiscing', 'elit.', 'Morbi', 'id', 'erat', 'eleifend,', 'vehicula', 'massa', 'malesuada,', 'rutrum', 'justo.', 'Mauris', 'id', 'purus', 'erat.', 'Ut', 'et', 'gravida', 'urna.', 'Nam', 'eu', 'metus', 'dignissim,', 'vehicula', 'augue', 'et,', 'euismod', 'urna.', 'Sed', 'convallis', 'varius', 'convallis.', 'Curabitur', 'blandit', 'enim', 'sit', 'amet', 'tempus', 'tempor.', 'Suspendisse', 'ullamcorper', 'eget', 'dui', 'quis', 'euismod.', 'Aenean', 'id', 'turpis', 'diam.', 'Phasellus', 'lacus', 'magna,', 'mollis', 'non', 'mattis', 'vel,', 'pellentesque', 'in', 'erat.', 'Suspendisse', 'neque', 'elit,', 'posuere', 'vitae', 'ligula', 'gravida,', 'tincidunt', 'vestibulum', 'enim.', 'Mauris', 'sit', 'amet', 'condimentum', 'risus,', 'eget', 'ullamcorper', 'lectus.', 'Vivamus', 'vel', 'magna', 'tempor', 'metus', 'sagittis', 'vehicula.', 'Duis', 'ultrices', 'dapibus', 'neque', 'ut', 'eleifend.', 'Nulla', 'nibh', 'dolor,', 'vehicula', 'suscipit', 'egestas', 'et,', 'finibus', 'vel', 'justo.', 'Donec', 'sed', 'molestie', 'tellus,', 'a', 'condimentum', 'lectus.', 'Ut', 'efficitur', 'quis', 'urna', 'quis', 'mattis.', 'Nam', 'at', 'orci', 'diam.', 'Proin', 'sit', 'amet', 'nisi', 'sed', 'lectus', 'fringilla', 'interdum.', 'Mauris', 'facilisis', 'libero', 'vel', 'velit', 'accumsan,', 'non', 'condimentum', 'ex', 'malesuada.', 'Phasellus', 'eros', 'felis,', 'consectetur', 'vitae', 'dolor', 'sit', 'amet,', 'gravida', 'iaculis', 'eros.', 'Maecenas', 'varius', 'mi', 'augue,', 'nec', 'ornare', 'turpis', 'pulvinar', 'vitae.', 'Cras', 'in', 'magna', 'hendrerit,', 'dapibus', 'sapien', 'dictum,', 'bibendum', 'felis.', 'Aenean', 'maximus', 'nec', 'ligula', 'sit', 'amet', 'congue.', 'Integer', 'purus', 'urna,', 'porttitor', 'ut', 'lorem', 'vitae,', 'imperdiet', 'ornare', 'massa.', 'Duis', 'pellentesque', 'vulputate', 'nibh', 'in', 'congue.', 'Ut', 'pharetra', 'imperdiet', 'ultricies.', 'Suspendisse', 'purus', 'leo,', 'sollicitudin', 'hendrerit', 'nulla', 'in,', 'ullamcorper', 'finibus', 'mauris.', 'Aliquam', 'tincidunt', 'eros', 'eget', 'enim', 'lobortis', 'gravida.', 'Nullam', 'egestas', 'id', 'ante', 'sed', 'ullamcorper.', 'Aliquam', 'ut', 'gravida', 'nibh.', 'Fusce', 'at', 'tellus', 'suscipit,', 'ultricies', 'elit', 'in,', 'tincidunt', 'ligula.', 'Aenean', 'semper', 'ligula', 'risus,', 'vitae', 'sodales', 'tortor', 'sollicitudin', 'eget.', 'Ut', 'suscipit', 'vel', 'tortor', 'sed', 'ullamcorper.', 'Quisque', 'viverra', 'ex', 'mi,', 'pretium', 'dapibus', 'lorem', 'dignissim', 'ut.', 'Phasellus', 'eget', 'pharetra', 'lectus.', 'Ut', 'ornare', 'erat', 'commodo', 'purus', 'volutpat', 'auctor.', 'Vestibulum', 'rutrum,', 'turpis', 'ac', 'efficitur', 'consequat,', 'metus', 'nunc', 'ornare', 'nulla,', 'ac', 'commodo', 'mauris', 'lectus', 'pretium', 'velit.', 'Nam', 'sagittis', 'nulla', 'nec', 'sem', 'maximus', 'malesuada', 'in', 'sed', 'tortor.', 'Class', 'aptent', 'taciti', 'sociosqu', 'ad', 'litora', 'torquent', 'per', 'conubia', 'nostra,', 'per', 'inceptos', 'himenaeos.', 'Pellentesque', 'rhoncus', 'arcu', 'lorem,', 'id', 'iaculis', 'lectus', 'varius', 'sit', 'amet.', 'Donec', 'ante', 'ex,', 'consectetur', 'vel', 'eleifend', 'sit', 'amet,', 'sollicitudin', 'vitae', 'dui.', 'Nam', 'in', 'libero', 'dignissim,', 'iaculis', 'sem', 'ut,', 'posuere', 'nulla.', 'Phasellus', 'sit', 'amet', 'vestibulum', 'nulla,', 'sed', 'egestas', 'arcu.', 'Nunc', 'dignissim', 'ligula', 'vel', 'molestie', 'consectetur.', 'Sed', 'non', 'risus', 'varius', 'justo', 'auctor', 'sollicitudin.', 'Phasellus', 'in', 'orci', 'erat.', 'Praesent', 'feugiat', 'vestibulum', 'lorem,', 'quis', 'gravida', 'mi', 'posuere', 'at.', 'Integer', 'sagittis', 'mattis', 'nibh.', 'Nunc', 'molestie', 'tristique', 'laoreet.', 'Donec', 'eget', 'massa', 'semper', 'risus', 'aliquet', 'ornare.', 'Vivamus', 'id', 'aliquet', 'elit.', 'Nam', 'ornare', 'velit', 'eget', 'venenatis', 'laoreet.', 'Quisque', 'tincidunt', 'libero', 'magna,', 'ac', 'sodales', 'neque', 'interdum', 'in.', 'In', 'malesuada', 'risus', 'vitae', 'laoreet', 'posuere.', 'Vestibulum', 'ante', 'ipsum', 'primis', 'in', 'faucibus', 'orci', 'luctus', 'et', 'ultrices', 'posuere', 'cubilia', 'curae;', 'Nam', 'eu', 'metus', 'leo.', 'Fusce', 'porta', 'elit', 'risus,', 'cursus', 'blandit', 'enim', 'dictum', 'nec.', 'Aliquam', 'eu', 'quam', 'in', 'purus', 'mattis', 'tempor', 'in', 'non', 'quam.', 'Maecenas', 'dapibus', 'nulla', 'vel', 'aliquam', 'semper.', 'Donec', 'id', 'molestie', 'sem.', 'Aenean', 'a', 'lacus', 'vel', 'diam', 'venenatis', 'condimentum', 'ut', 'nec', 'quam.', 'Sed', 'ut', 'metus', 'ac', 'ipsum', 'facilisis', 'venenatis.', 'Sed', 'ut', 'lectus', 'at', 'est', 'hendrerit', 'aliquet.', 'Vestibulum', 'ac', 'leo', 'aliquam,', 'interdum', 'elit', 'quis,', 'porttitor', 'justo.', 'Suspendisse', 'luctus', 'eros', 'non', 'lacinia', 'lacinia.', 'Donec', 'et', 'ligula', 'ut', 'sapien', 'vulputate', 'placerat.', 'Interdum', 'et', 'malesuada', 'fames', 'ac', 'ante', 'ipsum', 'primis', 'in', 'faucibus.', 'Quisque', 'ac', 'nunc', 'eu', 'nisi', 'elementum', 'rutrum.', 'Nulla', 'quis', 'dapibus', 'nibh,', 'sed', 'euismod', 'orci.']\n"
          ]
        }
      ]
    },
    {
      "cell_type": "markdown",
      "source": [
        "## Word_punct Tokenizer"
      ],
      "metadata": {
        "id": "MJ7Cwb_adZ68"
      }
    },
    {
      "cell_type": "code",
      "source": [
        "from nltk.tokenize import WordPunctTokenizer\n",
        "\n",
        "# Create a reference variable for Class WordPunctTokenizer\n",
        "wptk = WordPunctTokenizer()\n",
        "\n",
        "# Create a string input\n",
        "s = '''Good muffins cost ＄3.88\\nin New York.  Please buy me\n",
        "... two of them.\\n\\nThanks.'''\n",
        "\n",
        "# Use tokenize method\n",
        "punct_tks = wptk.tokenize(s)\n",
        "\n",
        "print(punct_tks)"
      ],
      "metadata": {
        "colab": {
          "base_uri": "https://localhost:8080/"
        },
        "id": "hXGGrAGbdZof",
        "outputId": "b204b5e8-1aba-4cb8-da32-00374eb54cc8"
      },
      "execution_count": null,
      "outputs": [
        {
          "output_type": "stream",
          "name": "stdout",
          "text": [
            "['Good', 'muffins', 'cost', '＄', '3', '.', '88', 'in', 'New', 'York', '.', 'Please', 'buy', 'me', '...', 'two', 'of', 'them', '.', 'Thanks', '.']\n"
          ]
        }
      ]
    },
    {
      "cell_type": "markdown",
      "source": [
        "## TreeBankWordTokenizer"
      ],
      "metadata": {
        "id": "4Nu4xPrjeRwA"
      }
    },
    {
      "cell_type": "code",
      "source": [
        "from nltk.tokenize import TreebankWordTokenizer\n",
        "s = '''Good muffins cost $3.88\\nin New York.  Please buy me\\ntwo of them.\\nThanks. They'll save and invest more. hi, my name can't hello,'''\n",
        "tbw_tks = TreebankWordTokenizer().tokenize(s)\n",
        "print(tbw_tks)"
      ],
      "metadata": {
        "colab": {
          "base_uri": "https://localhost:8080/"
        },
        "id": "9CAF9Z_ZeVbJ",
        "outputId": "8d7d4a44-ac84-40a9-e396-41b1b3ec6302"
      },
      "execution_count": null,
      "outputs": [
        {
          "output_type": "stream",
          "name": "stdout",
          "text": [
            "['Good', 'muffins', 'cost', '$', '3.88', 'in', 'New', 'York.', 'Please', 'buy', 'me', 'two', 'of', 'them.', 'Thanks.', 'They', \"'ll\", 'save', 'and', 'invest', 'more.', 'hi', ',', 'my', 'name', 'ca', \"n't\", 'hello', ',']\n"
          ]
        }
      ]
    },
    {
      "cell_type": "markdown",
      "source": [
        "## TweetTokenizer"
      ],
      "metadata": {
        "id": "Z_v4JkLIewBp"
      }
    },
    {
      "cell_type": "code",
      "source": [
        "from nltk.tokenize import TweetTokenizer\n",
        "tweet_tks = TweetTokenizer().tokenize(s)\n",
        "print(tweet_tks)"
      ],
      "metadata": {
        "colab": {
          "base_uri": "https://localhost:8080/"
        },
        "id": "Kg5D65egey5H",
        "outputId": "a1606fc0-85cf-481b-9efc-ce19e3b9a1c1"
      },
      "execution_count": null,
      "outputs": [
        {
          "output_type": "stream",
          "name": "stdout",
          "text": [
            "['Good', 'muffins', 'cost', '$', '3.88', 'in', 'New', 'York', '.', 'Please', 'buy', 'me', 'two', 'of', 'them', '.', 'Thanks', '.', \"They'll\", 'save', 'and', 'invest', 'more', '.', 'hi', ',', 'my', 'name', \"can't\", 'hello', ',']\n"
          ]
        }
      ]
    },
    {
      "cell_type": "markdown",
      "source": [
        "## MWETokenizer"
      ],
      "metadata": {
        "id": "cFctEQExfL-3"
      }
    },
    {
      "cell_type": "code",
      "source": [
        "from nltk.tokenize import MWETokenizer\n",
        "\n",
        "mwe = MWETokenizer([('N', 'Y'),('New', 'York')])\n",
        "mwe.add_mwe(('save', 'and', 'interest'))\n",
        "\n",
        "s = \"I live in New York. I use save and interest strategy.\"\n",
        "\n",
        "mwe_tks = mwe.tokenize(s.split())\n",
        "\n",
        "print(mwe_tks)"
      ],
      "metadata": {
        "colab": {
          "base_uri": "https://localhost:8080/"
        },
        "id": "pwMvnloCfQqX",
        "outputId": "9e2c11f7-09f0-400a-8a95-5547a8f15e3d"
      },
      "execution_count": null,
      "outputs": [
        {
          "output_type": "stream",
          "name": "stdout",
          "text": [
            "['I', 'live', 'in', 'New', 'York.', 'I', 'use', 'save_and_interest', 'strategy.']\n"
          ]
        }
      ]
    },
    {
      "cell_type": "markdown",
      "source": [
        "# Split Function"
      ],
      "metadata": {
        "id": "KfpP-O5IAF8w"
      }
    },
    {
      "cell_type": "code",
      "source": [
        "st = '''Good muffins cost $3.88\\nin New York.  Please buy me\\ntwo of them.\\nThanks. They'll save and invest more. hi, my name can't hello,'''\n",
        "st.split()"
      ],
      "metadata": {
        "colab": {
          "base_uri": "https://localhost:8080/"
        },
        "id": "h3TIERpSALkw",
        "outputId": "ab0c826f-8e9f-4899-97b3-6bfa4756d9fa"
      },
      "execution_count": null,
      "outputs": [
        {
          "output_type": "execute_result",
          "data": {
            "text/plain": [
              "['Good',\n",
              " 'muffins',\n",
              " 'cost',\n",
              " '$3.88',\n",
              " 'in',\n",
              " 'New',\n",
              " 'York.',\n",
              " 'Please',\n",
              " 'buy',\n",
              " 'me',\n",
              " 'two',\n",
              " 'of',\n",
              " 'them.',\n",
              " 'Thanks.',\n",
              " \"They'll\",\n",
              " 'save',\n",
              " 'and',\n",
              " 'invest',\n",
              " 'more.',\n",
              " 'hi,',\n",
              " 'my',\n",
              " 'name',\n",
              " \"can't\",\n",
              " 'hello,']"
            ]
          },
          "metadata": {},
          "execution_count": 1
        }
      ]
    },
    {
      "cell_type": "markdown",
      "source": [
        "# TextBlob Library"
      ],
      "metadata": {
        "id": "tvF0TOJQAwFe"
      }
    },
    {
      "cell_type": "code",
      "source": [
        "from textblob import TextBlob\n",
        "st = '''Good muffins cost $3.88\\nin New York.  Please buy me\\ntwo of them.\\nThanks. They'll save and invest more. hi, my name can't hello,'''\n",
        "blob_object = TextBlob(st)\n",
        "text_words = blob_object.words\n",
        "print(text_words)\n",
        "print(len(text_words))"
      ],
      "metadata": {
        "colab": {
          "base_uri": "https://localhost:8080/"
        },
        "id": "ESPGRqqDAvDi",
        "outputId": "0da82a6b-d08d-47fd-f791-cc017f7a6a08"
      },
      "execution_count": null,
      "outputs": [
        {
          "output_type": "stream",
          "name": "stdout",
          "text": [
            "['Good', 'muffins', 'cost', '3.88', 'in', 'New', 'York', 'Please', 'buy', 'me', 'two', 'of', 'them', 'Thanks', 'They', \"'ll\", 'save', 'and', 'invest', 'more', 'hi', 'my', 'name', 'ca', \"n't\", 'hello']\n",
            "26\n"
          ]
        }
      ]
    },
    {
      "cell_type": "markdown",
      "source": [
        "# SpaCy Library"
      ],
      "metadata": {
        "id": "9ThOL5YqBqv0"
      }
    },
    {
      "cell_type": "code",
      "source": [
        "import spacy\n",
        "stri = '''Good muffins cost $3.88\\nin New York.  Please buy me\\ntwo of them.\\nThanks. They'll save and invest more. hi, my name can't hello,'''\n",
        "nlp = spacy.load(\"en_core_web_sm\")\n",
        "doc = nlp(stri)\n",
        "for token in doc:\n",
        "  print(token, token.idx)"
      ],
      "metadata": {
        "colab": {
          "base_uri": "https://localhost:8080/"
        },
        "id": "EmlfmU4_BZ0v",
        "outputId": "026ac5a4-b9f5-489c-e6dd-b391f03a7e75"
      },
      "execution_count": null,
      "outputs": [
        {
          "output_type": "stream",
          "name": "stdout",
          "text": [
            "Good 0\n",
            "muffins 5\n",
            "cost 13\n",
            "$ 18\n",
            "3.88 19\n",
            "\n",
            " 23\n",
            "in 24\n",
            "New 27\n",
            "York 31\n",
            ". 35\n",
            "  37\n",
            "Please 38\n",
            "buy 45\n",
            "me 49\n",
            "\n",
            " 51\n",
            "two 52\n",
            "of 56\n",
            "them 59\n",
            ". 63\n",
            "\n",
            " 64\n",
            "Thanks 65\n",
            ". 71\n",
            "They 73\n",
            "'ll 77\n",
            "save 81\n",
            "and 86\n",
            "invest 90\n",
            "more 97\n",
            ". 101\n",
            "hi 103\n",
            ", 105\n",
            "my 107\n",
            "name 110\n",
            "ca 115\n",
            "n't 117\n",
            "hello 121\n",
            ", 126\n"
          ]
        }
      ]
    },
    {
      "cell_type": "markdown",
      "source": [
        "# Gensim Library"
      ],
      "metadata": {
        "id": "HaXokTCzCJ6v"
      }
    },
    {
      "cell_type": "code",
      "source": [
        "from gensim.utils import tokenize\n",
        "\n",
        "text = '''Associative arrays are particularly useful when you want to store and retrieve data based on descriptive identifiers (keys) rather than numerical indices. They are commonly used for tasks like storing configuration settings, representing database records, managing user profiles, and more.'''\n",
        "list(tokenize(text))"
      ],
      "metadata": {
        "colab": {
          "base_uri": "https://localhost:8080/"
        },
        "id": "MmFqG2y7CL45",
        "outputId": "db736ee4-a321-4352-b32f-401f8e7ca683"
      },
      "execution_count": null,
      "outputs": [
        {
          "output_type": "execute_result",
          "data": {
            "text/plain": [
              "['Associative',\n",
              " 'arrays',\n",
              " 'are',\n",
              " 'particularly',\n",
              " 'useful',\n",
              " 'when',\n",
              " 'you',\n",
              " 'want',\n",
              " 'to',\n",
              " 'store',\n",
              " 'and',\n",
              " 'retrieve',\n",
              " 'data',\n",
              " 'based',\n",
              " 'on',\n",
              " 'descriptive',\n",
              " 'identifiers',\n",
              " 'keys',\n",
              " 'rather',\n",
              " 'than',\n",
              " 'numerical',\n",
              " 'indices',\n",
              " 'They',\n",
              " 'are',\n",
              " 'commonly',\n",
              " 'used',\n",
              " 'for',\n",
              " 'tasks',\n",
              " 'like',\n",
              " 'storing',\n",
              " 'configuration',\n",
              " 'settings',\n",
              " 'representing',\n",
              " 'database',\n",
              " 'records',\n",
              " 'managing',\n",
              " 'user',\n",
              " 'profiles',\n",
              " 'and',\n",
              " 'more']"
            ]
          },
          "metadata": {},
          "execution_count": 9
        }
      ]
    },
    {
      "cell_type": "markdown",
      "source": [
        "# Keras Library"
      ],
      "metadata": {
        "id": "gjy5hpGWCiOM"
      }
    },
    {
      "cell_type": "code",
      "source": [
        "from keras.preprocessing.text import Tokenizer\n",
        "from keras.preprocessing.text import text_to_word_sequence\n",
        "\n",
        "ntoken = Tokenizer(num_words = 20)\n",
        "text = '''Associative arrays are particularly useful when you want to store and retrieve data based on descriptive identifiers (keys) rather than numerical indices. They are commonly used for tasks like storing configuration settings, representing database records, managing user profiles, and more.'''\n",
        "ntoken.fit_on_texts(text)\n",
        "list_words = text_to_word_sequence(text)\n",
        "print(list_words)\n"
      ],
      "metadata": {
        "colab": {
          "base_uri": "https://localhost:8080/"
        },
        "id": "SyPXXZbaCkRp",
        "outputId": "5bb41a17-9680-40e1-cecc-85d88a9335a8"
      },
      "execution_count": null,
      "outputs": [
        {
          "output_type": "stream",
          "name": "stdout",
          "text": [
            "['associative', 'arrays', 'are', 'particularly', 'useful', 'when', 'you', 'want', 'to', 'store', 'and', 'retrieve', 'data', 'based', 'on', 'descriptive', 'identifiers', 'keys', 'rather', 'than', 'numerical', 'indices', 'they', 'are', 'commonly', 'used', 'for', 'tasks', 'like', 'storing', 'configuration', 'settings', 'representing', 'database', 'records', 'managing', 'user', 'profiles', 'and', 'more']\n"
          ]
        }
      ]
    }
  ]
}