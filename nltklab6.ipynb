{
  "nbformat": 4,
  "nbformat_minor": 0,
  "metadata": {
    "colab": {
      "provenance": []
    },
    "kernelspec": {
      "name": "python3",
      "display_name": "Python 3"
    },
    "language_info": {
      "name": "python"
    }
  },
  "cells": [
    {
      "cell_type": "code",
      "execution_count": null,
      "metadata": {
        "id": "oCzXI1hzzmfu"
      },
      "outputs": [],
      "source": [
        "from nltk import WordNetLemmatizer"
      ]
    },
    {
      "cell_type": "code",
      "source": [
        "import nltk\n",
        "nltk.download('wordnet')"
      ],
      "metadata": {
        "colab": {
          "base_uri": "https://localhost:8080/"
        },
        "id": "CICmAGsB1Bwr",
        "outputId": "17c5acb1-e287-4b49-934d-231ca6ca70e1"
      },
      "execution_count": null,
      "outputs": [
        {
          "output_type": "stream",
          "name": "stderr",
          "text": [
            "[nltk_data] Downloading package wordnet to /root/nltk_data...\n"
          ]
        },
        {
          "output_type": "execute_result",
          "data": {
            "text/plain": [
              "True"
            ]
          },
          "metadata": {},
          "execution_count": 2
        }
      ]
    },
    {
      "cell_type": "code",
      "source": [
        "from nltk.stem import WordNetLemmatizer\n",
        "lemmatizer = WordNetLemmatizer()\n",
        "lemmatizer.lemmatize('cooking')\n",
        "lemmatizer.lemmatize('cooking', pos='v')\n",
        "lemmatizer.lemmatize('cookbooks', pos='n')"
      ],
      "metadata": {
        "id": "wyLxblEe1Ue6",
        "outputId": "9a08084b-f1a2-44ea-d344-e2d3d8a9da4e",
        "colab": {
          "base_uri": "https://localhost:8080/",
          "height": 36
        }
      },
      "execution_count": null,
      "outputs": [
        {
          "output_type": "execute_result",
          "data": {
            "text/plain": [
              "'cookbook'"
            ],
            "application/vnd.google.colaboratory.intrinsic+json": {
              "type": "string"
            }
          },
          "metadata": {},
          "execution_count": 3
        }
      ]
    },
    {
      "cell_type": "code",
      "source": [
        "nltk.download('averaged_perceptron_tagger')"
      ],
      "metadata": {
        "colab": {
          "base_uri": "https://localhost:8080/"
        },
        "id": "5DRJY9ks3Y7R",
        "outputId": "2a1fa310-5477-487a-c0ec-7c80a70cbce9"
      },
      "execution_count": null,
      "outputs": [
        {
          "output_type": "stream",
          "name": "stderr",
          "text": [
            "[nltk_data] Downloading package averaged_perceptron_tagger to\n",
            "[nltk_data]     /root/nltk_data...\n",
            "[nltk_data]   Unzipping taggers/averaged_perceptron_tagger.zip.\n"
          ]
        },
        {
          "output_type": "execute_result",
          "data": {
            "text/plain": [
              "True"
            ]
          },
          "metadata": {},
          "execution_count": 6
        }
      ]
    },
    {
      "cell_type": "code",
      "source": [
        "from nltk.stem import WordNetLemmatizer\n",
        "from nltk.corpus import wordnet\n",
        "\n",
        "# Function to convert POS tags from Penn Treebank to WordNet POS tags\n",
        "def get_wordnet_pos(treebank_tag):\n",
        "    if treebank_tag.startswith('J'):\n",
        "        return wordnet.ADJ\n",
        "    elif treebank_tag.startswith('V'):\n",
        "        return wordnet.VERB\n",
        "    elif treebank_tag.startswith('N'):\n",
        "        return wordnet.NOUN\n",
        "    elif treebank_tag.startswith('R'):SS\n",
        "        return wordnet.ADV\n",
        "    else:\n",
        "        return wordnet.NOUN\n",
        "\n",
        "# Initialize the WordNet Lemmatizer\n",
        "lemmatizer = WordNetLemmatizer()\n",
        "\n",
        "# List of sentences to lemmatize\n",
        "sentences = [\n",
        "    \"I am cooking dinner.\",\n",
        "    \"She enjoys cooking.\",\n",
        "    \"He cooked a delicious meal.\",\n",
        "    \"They will be cooking all day.\",\n",
        "    \"The chef is cooking pasta.\",\n",
        "    \"She cooked breakfast for us.\",\n",
        "    \"I love cooking desserts.\",\n",
        "    \"He enjoys cooking for his family.\",\n",
        "    \"They are cooking a special dish.\",\n",
        "    \"The kitchen smells like cooking spices.\",\n",
        "    \"She will be cooking dinner tonight.\",\n",
        "    \"He cooked a great meal last night.\",\n",
        "    \"They enjoy cooking together.\",\n",
        "    \"I'm not good at cooking.\",\n",
        "    \"She cooked a variety of dishes.\",\n",
        "    \"He will be cooking for the event.\",\n",
        "    \"They love cooking different cuisines.\",\n",
        "    \"The restaurant specializes in cooking seafood.\",\n",
        "    \"She enjoys cooking for her friends.\",\n",
        "    \"I'm learning to cook.\"\n",
        "]\n",
        "\n",
        "# Lemmatize the sentences\n",
        "for sentence in sentences:\n",
        "    words = sentence.split()\n",
        "    pos_tags = nltk.pos_tag(words)\n",
        "    lemmatized_words = [lemmatizer.lemmatize(word, pos=get_wordnet_pos(tag)) for word, tag in pos_tags]\n",
        "    lemmatized_sentence = ' '.join(lemmatized_words)\n",
        "    print(f\"Original: \\\"{sentence}\\\"\\nLemmatized: \\\"{lemmatized_sentence}\\\"\\n\")\n"
      ],
      "metadata": {
        "colab": {
          "base_uri": "https://localhost:8080/"
        },
        "id": "Blw32f5M3SI0",
        "outputId": "be7a7a24-d15a-4950-c876-e85da375cd9f"
      },
      "execution_count": null,
      "outputs": [
        {
          "output_type": "stream",
          "name": "stdout",
          "text": [
            "Original: \"I am cooking dinner.\"\n",
            "Lemmatized: \"I be cook dinner.\"\n",
            "\n",
            "Original: \"She enjoys cooking.\"\n",
            "Lemmatized: \"She enjoy cooking.\"\n",
            "\n",
            "Original: \"He cooked a delicious meal.\"\n",
            "Lemmatized: \"He cook a delicious meal.\"\n",
            "\n",
            "Original: \"They will be cooking all day.\"\n",
            "Lemmatized: \"They will be cook all day.\"\n",
            "\n",
            "Original: \"The chef is cooking pasta.\"\n",
            "Lemmatized: \"The chef be cook pasta.\"\n",
            "\n",
            "Original: \"She cooked breakfast for us.\"\n",
            "Lemmatized: \"She cook breakfast for us.\"\n",
            "\n",
            "Original: \"I love cooking desserts.\"\n",
            "Lemmatized: \"I love cook desserts.\"\n",
            "\n",
            "Original: \"He enjoys cooking for his family.\"\n",
            "Lemmatized: \"He enjoy cook for his family.\"\n",
            "\n",
            "Original: \"They are cooking a special dish.\"\n",
            "Lemmatized: \"They be cook a special dish.\"\n",
            "\n",
            "Original: \"The kitchen smells like cooking spices.\"\n",
            "Lemmatized: \"The kitchen smell like cook spices.\"\n",
            "\n",
            "Original: \"She will be cooking dinner tonight.\"\n",
            "Lemmatized: \"She will be cook dinner tonight.\"\n",
            "\n",
            "Original: \"He cooked a great meal last night.\"\n",
            "Lemmatized: \"He cook a great meal last night.\"\n",
            "\n",
            "Original: \"They enjoy cooking together.\"\n",
            "Lemmatized: \"They enjoy cook together.\"\n",
            "\n",
            "Original: \"I'm not good at cooking.\"\n",
            "Lemmatized: \"I'm not good at cooking.\"\n",
            "\n",
            "Original: \"She cooked a variety of dishes.\"\n",
            "Lemmatized: \"She cook a variety of dishes.\"\n",
            "\n",
            "Original: \"He will be cooking for the event.\"\n",
            "Lemmatized: \"He will be cook for the event.\"\n",
            "\n",
            "Original: \"They love cooking different cuisines.\"\n",
            "Lemmatized: \"They love cook different cuisines.\"\n",
            "\n",
            "Original: \"The restaurant specializes in cooking seafood.\"\n",
            "Lemmatized: \"The restaurant specialize in cook seafood.\"\n",
            "\n",
            "Original: \"She enjoys cooking for her friends.\"\n",
            "Lemmatized: \"She enjoy cook for her friends.\"\n",
            "\n",
            "Original: \"I'm learning to cook.\"\n",
            "Lemmatized: \"I'm learn to cook.\"\n",
            "\n"
          ]
        }
      ]
    }
  ]
}