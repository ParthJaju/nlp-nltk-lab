{
  "nbformat": 4,
  "nbformat_minor": 0,
  "metadata": {
    "colab": {
      "provenance": []
    },
    "kernelspec": {
      "name": "python3",
      "display_name": "Python 3"
    },
    "language_info": {
      "name": "python"
    }
  },
  "cells": [
    {
      "cell_type": "code",
      "execution_count": 2,
      "metadata": {
        "id": "TxltUhYHla-w"
      },
      "outputs": [],
      "source": [
        "import nltk\n",
        "from nltk.tokenize import word_tokenize\n",
        "from nltk.corpus import stopwords\n",
        "from bs4 import BeautifulSoup\n",
        "import re"
      ]
    },
    {
      "cell_type": "code",
      "source": [
        "nltk.download('punkt')\n",
        "nltk.download('stopwords')"
      ],
      "metadata": {
        "colab": {
          "base_uri": "https://localhost:8080/"
        },
        "id": "FwYQpQTknNaW",
        "outputId": "735dc21f-213a-48f3-bb4f-0a435ec9c756"
      },
      "execution_count": 3,
      "outputs": [
        {
          "output_type": "stream",
          "name": "stderr",
          "text": [
            "[nltk_data] Downloading package punkt to /root/nltk_data...\n",
            "[nltk_data]   Unzipping tokenizers/punkt.zip.\n",
            "[nltk_data] Downloading package stopwords to /root/nltk_data...\n",
            "[nltk_data]   Unzipping corpora/stopwords.zip.\n"
          ]
        },
        {
          "output_type": "execute_result",
          "data": {
            "text/plain": [
              "True"
            ]
          },
          "metadata": {},
          "execution_count": 3
        }
      ]
    },
    {
      "cell_type": "markdown",
      "source": [
        "## Extra Whitespace Removal"
      ],
      "metadata": {
        "id": "Sw4NyP1urXWa"
      }
    },
    {
      "cell_type": "code",
      "source": [
        "para = \"\"\"In the heart of a bustling city, where the rhythm of life never seemed to slow down, there existed a hidden <a href='http://www.tranquilpark.com'>oasis</a> of tranquility! This haven was a small, enchanting <span style='color: green;'>park</span> adorned with vibrant flowers and ancient trees that whispered <a href='http://www.storiestales.com'>stories</a> of times long past. Its pathways, meandering like the threads of <b>fate</b>, led visitors through a <a href='http://www.colorfulscents.net'>tapestry</a> of colors and scents that shifted with the seasons. Beneath the gentle shade of a <i>willow tree</i>, a weathered wooden <a href='http://www.restfulbench.org'>bench</a> invited weary souls to rest and contemplate. <div class='bird-symphony'>Birds</div> orchestrated symphonies, and the distant hum of traffic became a soothing backdrop. It was a place where people from all walks of life converged, momentarily escaping their worries. Children's laughter echoed as they chased <a href='http://www.flutteringbutterflies.org'>butterflies</a>; their imaginations painting the air with vibrant strokes. Elderly couples walked hand in hand, their steps mirroring a lifetime of shared <span class='sweet-memories'>memories</span>. Artists found inspiration in every petal and leaf, their canvases giving life to <a href='http://www.naturespalette.com'>nature's palette</a>. As the sun dipped below the horizon, the park transformed. Soft <a href='http://www.goldenhues.com'>golden hues</a> gave way to the embrace of <i>twilight</i>. Fireflies emerged, creating a living <span class='constellation'>constellation</span> that danced to its own celestial rhythm. The world seemed to exhale, releasing the tension of the day and inviting <a href='http://www.starrysecrets.net'>the stars</a> to share their secrets. In a fast-paced <b>era</b>, this <span class='sanctuary'>park</span> remained a <a href='http://www.testamentofbeauty.org'>sanctuary</a>, a testament to the enduring beauty of the natural world and the human spirit's yearning for <i>connection</i>. Here, amidst the ebb and flow of <a href='http://www.livelife.com'>life</a>, people found solace—each footstep a silent vow to cherish the moments of serenity. And so, the hidden <a href='http://www.magicalplace.net'>oasis</a> continued to weave its <span class='magic'>spell</span>, reminding all who entered that <a href='http://www.magicexists.org'>magic</a> existed in the simplest of places. \"\"\"\n",
        "para = para.strip()\n",
        "words = \" \".join(para.split())\n",
        "print(\"Cleaned text:\", words)"
      ],
      "metadata": {
        "colab": {
          "base_uri": "https://localhost:8080/"
        },
        "id": "G8Fw-AZYrt7C",
        "outputId": "70351148-aa6c-474b-fcc2-30cf9a549b46"
      },
      "execution_count": 4,
      "outputs": [
        {
          "output_type": "stream",
          "name": "stdout",
          "text": [
            "Cleaned text: In the heart of a bustling city, where the rhythm of life never seemed to slow down, there existed a hidden <a href='http://www.tranquilpark.com'>oasis</a> of tranquility! This haven was a small, enchanting <span style='color: green;'>park</span> adorned with vibrant flowers and ancient trees that whispered <a href='http://www.storiestales.com'>stories</a> of times long past. Its pathways, meandering like the threads of <b>fate</b>, led visitors through a <a href='http://www.colorfulscents.net'>tapestry</a> of colors and scents that shifted with the seasons. Beneath the gentle shade of a <i>willow tree</i>, a weathered wooden <a href='http://www.restfulbench.org'>bench</a> invited weary souls to rest and contemplate. <div class='bird-symphony'>Birds</div> orchestrated symphonies, and the distant hum of traffic became a soothing backdrop. It was a place where people from all walks of life converged, momentarily escaping their worries. Children's laughter echoed as they chased <a href='http://www.flutteringbutterflies.org'>butterflies</a>; their imaginations painting the air with vibrant strokes. Elderly couples walked hand in hand, their steps mirroring a lifetime of shared <span class='sweet-memories'>memories</span>. Artists found inspiration in every petal and leaf, their canvases giving life to <a href='http://www.naturespalette.com'>nature's palette</a>. As the sun dipped below the horizon, the park transformed. Soft <a href='http://www.goldenhues.com'>golden hues</a> gave way to the embrace of <i>twilight</i>. Fireflies emerged, creating a living <span class='constellation'>constellation</span> that danced to its own celestial rhythm. The world seemed to exhale, releasing the tension of the day and inviting <a href='http://www.starrysecrets.net'>the stars</a> to share their secrets. In a fast-paced <b>era</b>, this <span class='sanctuary'>park</span> remained a <a href='http://www.testamentofbeauty.org'>sanctuary</a>, a testament to the enduring beauty of the natural world and the human spirit's yearning for <i>connection</i>. Here, amidst the ebb and flow of <a href='http://www.livelife.com'>life</a>, people found solace—each footstep a silent vow to cherish the moments of serenity. And so, the hidden <a href='http://www.magicalplace.net'>oasis</a> continued to weave its <span class='magic'>spell</span>, reminding all who entered that <a href='http://www.magicexists.org'>magic</a> existed in the simplest of places.\n"
          ]
        }
      ]
    },
    {
      "cell_type": "markdown",
      "source": [
        "## Stopwords Removal\n",
        "### Used custom list of stopwords appended with nltk stopword list"
      ],
      "metadata": {
        "id": "iA3DW5alqe1r"
      }
    },
    {
      "cell_type": "code",
      "source": [
        "tokens = word_tokenize(words)\n",
        "print(tokens)"
      ],
      "metadata": {
        "colab": {
          "base_uri": "https://localhost:8080/"
        },
        "id": "t9_U297KoJ1F",
        "outputId": "676af823-b8c8-46ae-c951-7fdc98c01350"
      },
      "execution_count": 5,
      "outputs": [
        {
          "output_type": "stream",
          "name": "stdout",
          "text": [
            "['In', 'the', 'heart', 'of', 'a', 'bustling', 'city', ',', 'where', 'the', 'rhythm', 'of', 'life', 'never', 'seemed', 'to', 'slow', 'down', ',', 'there', 'existed', 'a', 'hidden', '<', 'a', \"href='http\", ':', '//www.tranquilpark.com', \"'\", '>', 'oasis', '<', '/a', '>', 'of', 'tranquility', '!', 'This', 'haven', 'was', 'a', 'small', ',', 'enchanting', '<', 'span', \"style='color\", ':', 'green', ';', \"'\", '>', 'park', '<', '/span', '>', 'adorned', 'with', 'vibrant', 'flowers', 'and', 'ancient', 'trees', 'that', 'whispered', '<', 'a', \"href='http\", ':', '//www.storiestales.com', \"'\", '>', 'stories', '<', '/a', '>', 'of', 'times', 'long', 'past', '.', 'Its', 'pathways', ',', 'meandering', 'like', 'the', 'threads', 'of', '<', 'b', '>', 'fate', '<', '/b', '>', ',', 'led', 'visitors', 'through', 'a', '<', 'a', \"href='http\", ':', '//www.colorfulscents.net', \"'\", '>', 'tapestry', '<', '/a', '>', 'of', 'colors', 'and', 'scents', 'that', 'shifted', 'with', 'the', 'seasons', '.', 'Beneath', 'the', 'gentle', 'shade', 'of', 'a', '<', 'i', '>', 'willow', 'tree', '<', '/i', '>', ',', 'a', 'weathered', 'wooden', '<', 'a', \"href='http\", ':', '//www.restfulbench.org', \"'\", '>', 'bench', '<', '/a', '>', 'invited', 'weary', 'souls', 'to', 'rest', 'and', 'contemplate', '.', '<', 'div', \"class='bird-symphony\", \"'\", '>', 'Birds', '<', '/div', '>', 'orchestrated', 'symphonies', ',', 'and', 'the', 'distant', 'hum', 'of', 'traffic', 'became', 'a', 'soothing', 'backdrop', '.', 'It', 'was', 'a', 'place', 'where', 'people', 'from', 'all', 'walks', 'of', 'life', 'converged', ',', 'momentarily', 'escaping', 'their', 'worries', '.', 'Children', \"'s\", 'laughter', 'echoed', 'as', 'they', 'chased', '<', 'a', \"href='http\", ':', '//www.flutteringbutterflies.org', \"'\", '>', 'butterflies', '<', '/a', '>', ';', 'their', 'imaginations', 'painting', 'the', 'air', 'with', 'vibrant', 'strokes', '.', 'Elderly', 'couples', 'walked', 'hand', 'in', 'hand', ',', 'their', 'steps', 'mirroring', 'a', 'lifetime', 'of', 'shared', '<', 'span', \"class='sweet-memories\", \"'\", '>', 'memories', '<', '/span', '>', '.', 'Artists', 'found', 'inspiration', 'in', 'every', 'petal', 'and', 'leaf', ',', 'their', 'canvases', 'giving', 'life', 'to', '<', 'a', \"href='http\", ':', '//www.naturespalette.com', \"'\", '>', 'nature', \"'s\", 'palette', '<', '/a', '>', '.', 'As', 'the', 'sun', 'dipped', 'below', 'the', 'horizon', ',', 'the', 'park', 'transformed', '.', 'Soft', '<', 'a', \"href='http\", ':', '//www.goldenhues.com', \"'\", '>', 'golden', 'hues', '<', '/a', '>', 'gave', 'way', 'to', 'the', 'embrace', 'of', '<', 'i', '>', 'twilight', '<', '/i', '>', '.', 'Fireflies', 'emerged', ',', 'creating', 'a', 'living', '<', 'span', \"class='constellation\", \"'\", '>', 'constellation', '<', '/span', '>', 'that', 'danced', 'to', 'its', 'own', 'celestial', 'rhythm', '.', 'The', 'world', 'seemed', 'to', 'exhale', ',', 'releasing', 'the', 'tension', 'of', 'the', 'day', 'and', 'inviting', '<', 'a', \"href='http\", ':', '//www.starrysecrets.net', \"'\", '>', 'the', 'stars', '<', '/a', '>', 'to', 'share', 'their', 'secrets', '.', 'In', 'a', 'fast-paced', '<', 'b', '>', 'era', '<', '/b', '>', ',', 'this', '<', 'span', \"class='sanctuary\", \"'\", '>', 'park', '<', '/span', '>', 'remained', 'a', '<', 'a', \"href='http\", ':', '//www.testamentofbeauty.org', \"'\", '>', 'sanctuary', '<', '/a', '>', ',', 'a', 'testament', 'to', 'the', 'enduring', 'beauty', 'of', 'the', 'natural', 'world', 'and', 'the', 'human', 'spirit', \"'s\", 'yearning', 'for', '<', 'i', '>', 'connection', '<', '/i', '>', '.', 'Here', ',', 'amidst', 'the', 'ebb', 'and', 'flow', 'of', '<', 'a', \"href='http\", ':', '//www.livelife.com', \"'\", '>', 'life', '<', '/a', '>', ',', 'people', 'found', 'solace—each', 'footstep', 'a', 'silent', 'vow', 'to', 'cherish', 'the', 'moments', 'of', 'serenity', '.', 'And', 'so', ',', 'the', 'hidden', '<', 'a', \"href='http\", ':', '//www.magicalplace.net', \"'\", '>', 'oasis', '<', '/a', '>', 'continued', 'to', 'weave', 'its', '<', 'span', \"class='magic\", \"'\", '>', 'spell', '<', '/span', '>', ',', 'reminding', 'all', 'who', 'entered', 'that', '<', 'a', \"href='http\", ':', '//www.magicexists.org', \"'\", '>', 'magic', '<', '/a', '>', 'existed', 'in', 'the', 'simplest', 'of', 'places', '.']\n"
          ]
        }
      ]
    },
    {
      "cell_type": "code",
      "source": [
        "custom_stopwords = ['down','hello','hi','hidden','seemed','of','ok','okay']\n",
        "nltk_stopwords = stopwords.words(\"english\")\n",
        "stopwords = nltk_stopwords + custom_stopwords\n",
        "filtered_tokens = [token for token in tokens if token.lower() not in stopwords]\n",
        "print(\"Tokens without stopwords:\", filtered_tokens)"
      ],
      "metadata": {
        "colab": {
          "base_uri": "https://localhost:8080/"
        },
        "id": "MdFgMZrVnX7d",
        "outputId": "f24532d3-0c91-4a8d-a337-8bf54ebedc90"
      },
      "execution_count": 6,
      "outputs": [
        {
          "output_type": "stream",
          "name": "stdout",
          "text": [
            "Tokens without stopwords: ['heart', 'bustling', 'city', ',', 'rhythm', 'life', 'never', 'slow', ',', 'existed', '<', \"href='http\", ':', '//www.tranquilpark.com', \"'\", '>', 'oasis', '<', '/a', '>', 'tranquility', '!', 'small', ',', 'enchanting', '<', 'span', \"style='color\", ':', 'green', ';', \"'\", '>', 'park', '<', '/span', '>', 'adorned', 'vibrant', 'flowers', 'ancient', 'trees', 'whispered', '<', \"href='http\", ':', '//www.storiestales.com', \"'\", '>', 'stories', '<', '/a', '>', 'times', 'long', 'past', '.', 'pathways', ',', 'meandering', 'like', 'threads', '<', 'b', '>', 'fate', '<', '/b', '>', ',', 'led', 'visitors', '<', \"href='http\", ':', '//www.colorfulscents.net', \"'\", '>', 'tapestry', '<', '/a', '>', 'colors', 'scents', 'shifted', 'seasons', '.', 'Beneath', 'gentle', 'shade', '<', '>', 'willow', 'tree', '<', '/i', '>', ',', 'weathered', 'wooden', '<', \"href='http\", ':', '//www.restfulbench.org', \"'\", '>', 'bench', '<', '/a', '>', 'invited', 'weary', 'souls', 'rest', 'contemplate', '.', '<', 'div', \"class='bird-symphony\", \"'\", '>', 'Birds', '<', '/div', '>', 'orchestrated', 'symphonies', ',', 'distant', 'hum', 'traffic', 'became', 'soothing', 'backdrop', '.', 'place', 'people', 'walks', 'life', 'converged', ',', 'momentarily', 'escaping', 'worries', '.', 'Children', \"'s\", 'laughter', 'echoed', 'chased', '<', \"href='http\", ':', '//www.flutteringbutterflies.org', \"'\", '>', 'butterflies', '<', '/a', '>', ';', 'imaginations', 'painting', 'air', 'vibrant', 'strokes', '.', 'Elderly', 'couples', 'walked', 'hand', 'hand', ',', 'steps', 'mirroring', 'lifetime', 'shared', '<', 'span', \"class='sweet-memories\", \"'\", '>', 'memories', '<', '/span', '>', '.', 'Artists', 'found', 'inspiration', 'every', 'petal', 'leaf', ',', 'canvases', 'giving', 'life', '<', \"href='http\", ':', '//www.naturespalette.com', \"'\", '>', 'nature', \"'s\", 'palette', '<', '/a', '>', '.', 'sun', 'dipped', 'horizon', ',', 'park', 'transformed', '.', 'Soft', '<', \"href='http\", ':', '//www.goldenhues.com', \"'\", '>', 'golden', 'hues', '<', '/a', '>', 'gave', 'way', 'embrace', '<', '>', 'twilight', '<', '/i', '>', '.', 'Fireflies', 'emerged', ',', 'creating', 'living', '<', 'span', \"class='constellation\", \"'\", '>', 'constellation', '<', '/span', '>', 'danced', 'celestial', 'rhythm', '.', 'world', 'exhale', ',', 'releasing', 'tension', 'day', 'inviting', '<', \"href='http\", ':', '//www.starrysecrets.net', \"'\", '>', 'stars', '<', '/a', '>', 'share', 'secrets', '.', 'fast-paced', '<', 'b', '>', 'era', '<', '/b', '>', ',', '<', 'span', \"class='sanctuary\", \"'\", '>', 'park', '<', '/span', '>', 'remained', '<', \"href='http\", ':', '//www.testamentofbeauty.org', \"'\", '>', 'sanctuary', '<', '/a', '>', ',', 'testament', 'enduring', 'beauty', 'natural', 'world', 'human', 'spirit', \"'s\", 'yearning', '<', '>', 'connection', '<', '/i', '>', '.', ',', 'amidst', 'ebb', 'flow', '<', \"href='http\", ':', '//www.livelife.com', \"'\", '>', 'life', '<', '/a', '>', ',', 'people', 'found', 'solace—each', 'footstep', 'silent', 'vow', 'cherish', 'moments', 'serenity', '.', ',', '<', \"href='http\", ':', '//www.magicalplace.net', \"'\", '>', 'oasis', '<', '/a', '>', 'continued', 'weave', '<', 'span', \"class='magic\", \"'\", '>', 'spell', '<', '/span', '>', ',', 'reminding', 'entered', '<', \"href='http\", ':', '//www.magicexists.org', \"'\", '>', 'magic', '<', '/a', '>', 'existed', 'simplest', 'places', '.']\n"
          ]
        }
      ]
    },
    {
      "cell_type": "markdown",
      "source": [
        "## Punctuation Removal"
      ],
      "metadata": {
        "id": "8Cj6FyscqoLi"
      }
    },
    {
      "cell_type": "code",
      "source": [
        "import string"
      ],
      "metadata": {
        "id": "TYh-sDHQquEz"
      },
      "execution_count": 7,
      "outputs": []
    },
    {
      "cell_type": "code",
      "source": [
        "filtered_tokens = [token for token in filtered_tokens if token not in string.punctuation]\n",
        "print(\"Tokens without punctuation:\", filtered_tokens)"
      ],
      "metadata": {
        "colab": {
          "base_uri": "https://localhost:8080/"
        },
        "id": "18RA8-OXqzXL",
        "outputId": "b17bb0f3-0644-43f2-e3a0-7cb6541a5db3"
      },
      "execution_count": 8,
      "outputs": [
        {
          "output_type": "stream",
          "name": "stdout",
          "text": [
            "Tokens without punctuation: ['heart', 'bustling', 'city', 'rhythm', 'life', 'never', 'slow', 'existed', \"href='http\", '//www.tranquilpark.com', 'oasis', '/a', 'tranquility', 'small', 'enchanting', 'span', \"style='color\", 'green', 'park', '/span', 'adorned', 'vibrant', 'flowers', 'ancient', 'trees', 'whispered', \"href='http\", '//www.storiestales.com', 'stories', '/a', 'times', 'long', 'past', 'pathways', 'meandering', 'like', 'threads', 'b', 'fate', '/b', 'led', 'visitors', \"href='http\", '//www.colorfulscents.net', 'tapestry', '/a', 'colors', 'scents', 'shifted', 'seasons', 'Beneath', 'gentle', 'shade', 'willow', 'tree', '/i', 'weathered', 'wooden', \"href='http\", '//www.restfulbench.org', 'bench', '/a', 'invited', 'weary', 'souls', 'rest', 'contemplate', 'div', \"class='bird-symphony\", 'Birds', '/div', 'orchestrated', 'symphonies', 'distant', 'hum', 'traffic', 'became', 'soothing', 'backdrop', 'place', 'people', 'walks', 'life', 'converged', 'momentarily', 'escaping', 'worries', 'Children', \"'s\", 'laughter', 'echoed', 'chased', \"href='http\", '//www.flutteringbutterflies.org', 'butterflies', '/a', 'imaginations', 'painting', 'air', 'vibrant', 'strokes', 'Elderly', 'couples', 'walked', 'hand', 'hand', 'steps', 'mirroring', 'lifetime', 'shared', 'span', \"class='sweet-memories\", 'memories', '/span', 'Artists', 'found', 'inspiration', 'every', 'petal', 'leaf', 'canvases', 'giving', 'life', \"href='http\", '//www.naturespalette.com', 'nature', \"'s\", 'palette', '/a', 'sun', 'dipped', 'horizon', 'park', 'transformed', 'Soft', \"href='http\", '//www.goldenhues.com', 'golden', 'hues', '/a', 'gave', 'way', 'embrace', 'twilight', '/i', 'Fireflies', 'emerged', 'creating', 'living', 'span', \"class='constellation\", 'constellation', '/span', 'danced', 'celestial', 'rhythm', 'world', 'exhale', 'releasing', 'tension', 'day', 'inviting', \"href='http\", '//www.starrysecrets.net', 'stars', '/a', 'share', 'secrets', 'fast-paced', 'b', 'era', '/b', 'span', \"class='sanctuary\", 'park', '/span', 'remained', \"href='http\", '//www.testamentofbeauty.org', 'sanctuary', '/a', 'testament', 'enduring', 'beauty', 'natural', 'world', 'human', 'spirit', \"'s\", 'yearning', 'connection', '/i', 'amidst', 'ebb', 'flow', \"href='http\", '//www.livelife.com', 'life', '/a', 'people', 'found', 'solace—each', 'footstep', 'silent', 'vow', 'cherish', 'moments', 'serenity', \"href='http\", '//www.magicalplace.net', 'oasis', '/a', 'continued', 'weave', 'span', \"class='magic\", 'spell', '/span', 'reminding', 'entered', \"href='http\", '//www.magicexists.org', 'magic', '/a', 'existed', 'simplest', 'places']\n"
          ]
        }
      ]
    },
    {
      "cell_type": "markdown",
      "source": [
        "## URL Removal"
      ],
      "metadata": {
        "id": "MMMqY7KktAdI"
      }
    },
    {
      "cell_type": "code",
      "source": [
        "stack_overflow_text = '''Title: Exploring HTML and Linking Strategies in Web Development\n",
        "\n",
        "User1: Hello everyone, I'm diving into web development and had a question about linking between HTML pages. Any advice?\n",
        "\n",
        "User2: Hi! For linking within your site, use the <a> tag with relative URLs. They help maintain navigation consistency. For example, <a href=\"about.html\">About Us</a>.\n",
        "\n",
        "User3: Right, and if you need to link to external resources, use absolute URLs. Like <a href=\"https://www.example.com\">Visit Example</a>.\n",
        "\n",
        "User4: I've seen anchor links too, like when you jump to a section on the same page. Just use <a href=\"#section-id\">Go to Section</a>.\n",
        "\n",
        "User5: Absolutely. And don't forget the importance of naming conventions for your files and directories. It makes managing links easier.\n",
        "\n",
        "User6: What about image embedding? I've seen <img> tags, but any recommendations for optimizing images?\n",
        "\n",
        "User7: Yes, always use the alt attribute for images: <img src=\"image.jpg\" alt=\"Description of the image\">. For optimization, tools like ImageMagick or TinyPNG can help reduce file sizes.\n",
        "\n",
        "User8: Agreed. And consider using SVG images for icons. They're small in size and can be easily scaled without quality loss.\n",
        "\n",
        "User9: Speaking of SVGs, you can even embed them directly in your HTML using the <svg> tag. It's great for simple graphics.\n",
        "\n",
        "User10: When structuring your HTML, remember to use semantic elements like <header>, <nav>, and <footer>. They improve both accessibility and SEO.\n",
        "\n",
        "User1: Thanks, everyone! This clarifies a lot for me. I'm excited to implement these techniques in my upcoming projects.'''"
      ],
      "metadata": {
        "id": "7L_JCp9Qs_to"
      },
      "execution_count": 11,
      "outputs": []
    },
    {
      "cell_type": "code",
      "source": [
        "import re\n",
        "pattern = r\"(http|ftp|https)://([\\w_-]+(?:(?:\\.[\\w_-]+)+))([\\w.,@?^=%&:/~+#-]*[\\w@?^=%&/~+#-])?\"\n",
        "cleaned_text = re.sub(pattern, \"\", stack_overflow_text)\n",
        "print(\"Text without URLs:\", cleaned_text)"
      ],
      "metadata": {
        "id": "ffsudUENtERY",
        "colab": {
          "base_uri": "https://localhost:8080/"
        },
        "outputId": "d445ffb9-3db9-4863-860a-981b7edf293c"
      },
      "execution_count": 12,
      "outputs": [
        {
          "output_type": "stream",
          "name": "stdout",
          "text": [
            "Text without URLs: Title: Exploring HTML and Linking Strategies in Web Development\n",
            "\n",
            "User1: Hello everyone, I'm diving into web development and had a question about linking between HTML pages. Any advice?\n",
            "\n",
            "User2: Hi! For linking within your site, use the <a> tag with relative URLs. They help maintain navigation consistency. For example, <a href=\"about.html\">About Us</a>.\n",
            "\n",
            "User3: Right, and if you need to link to external resources, use absolute URLs. Like <a href=\"\">Visit Example</a>.\n",
            "\n",
            "User4: I've seen anchor links too, like when you jump to a section on the same page. Just use <a href=\"#section-id\">Go to Section</a>.\n",
            "\n",
            "User5: Absolutely. And don't forget the importance of naming conventions for your files and directories. It makes managing links easier.\n",
            "\n",
            "User6: What about image embedding? I've seen <img> tags, but any recommendations for optimizing images?\n",
            "\n",
            "User7: Yes, always use the alt attribute for images: <img src=\"image.jpg\" alt=\"Description of the image\">. For optimization, tools like ImageMagick or TinyPNG can help reduce file sizes.\n",
            "\n",
            "User8: Agreed. And consider using SVG images for icons. They're small in size and can be easily scaled without quality loss.\n",
            "\n",
            "User9: Speaking of SVGs, you can even embed them directly in your HTML using the <svg> tag. It's great for simple graphics.\n",
            "\n",
            "User10: When structuring your HTML, remember to use semantic elements like <header>, <nav>, and <footer>. They improve both accessibility and SEO.\n",
            "\n",
            "User1: Thanks, everyone! This clarifies a lot for me. I'm excited to implement these techniques in my upcoming projects.\n"
          ]
        }
      ]
    },
    {
      "cell_type": "markdown",
      "source": [
        "## HTML Removal"
      ],
      "metadata": {
        "id": "Wzrk4gHhtHto"
      }
    },
    {
      "cell_type": "code",
      "source": [
        "pattern = r\"<[^>]+>\"\n",
        "cleaned_text = re.sub(pattern, \"\", stack_overflow_text)\n",
        "print(\"Text without HTML code:\", cleaned_text)"
      ],
      "metadata": {
        "id": "fpyWJgnYtJqY",
        "colab": {
          "base_uri": "https://localhost:8080/"
        },
        "outputId": "b63df55c-3ee8-45c2-9ae8-89a06ea3d00b"
      },
      "execution_count": 13,
      "outputs": [
        {
          "output_type": "stream",
          "name": "stdout",
          "text": [
            "Text without HTML code: Title: Exploring HTML and Linking Strategies in Web Development\n",
            "\n",
            "User1: Hello everyone, I'm diving into web development and had a question about linking between HTML pages. Any advice?\n",
            "\n",
            "User2: Hi! For linking within your site, use the  tag with relative URLs. They help maintain navigation consistency. For example, About Us.\n",
            "\n",
            "User3: Right, and if you need to link to external resources, use absolute URLs. Like Visit Example.\n",
            "\n",
            "User4: I've seen anchor links too, like when you jump to a section on the same page. Just use Go to Section.\n",
            "\n",
            "User5: Absolutely. And don't forget the importance of naming conventions for your files and directories. It makes managing links easier.\n",
            "\n",
            "User6: What about image embedding? I've seen  tags, but any recommendations for optimizing images?\n",
            "\n",
            "User7: Yes, always use the alt attribute for images: . For optimization, tools like ImageMagick or TinyPNG can help reduce file sizes.\n",
            "\n",
            "User8: Agreed. And consider using SVG images for icons. They're small in size and can be easily scaled without quality loss.\n",
            "\n",
            "User9: Speaking of SVGs, you can even embed them directly in your HTML using the  tag. It's great for simple graphics.\n",
            "\n",
            "User10: When structuring your HTML, remember to use semantic elements like , , and . They improve both accessibility and SEO.\n",
            "\n",
            "User1: Thanks, everyone! This clarifies a lot for me. I'm excited to implement these techniques in my upcoming projects.\n"
          ]
        }
      ]
    },
    {
      "cell_type": "markdown",
      "source": [
        "# Speech-to-Text with Punctuations and Removing URLS (if any)"
      ],
      "metadata": {
        "id": "CAngJFy5fJlN"
      }
    },
    {
      "cell_type": "code",
      "source": [
        "import speech_recognition as sr\n",
        "import re\n",
        "\n",
        "def transcribe_audio(audio_path):\n",
        "    recognizer = sr.Recognizer()\n",
        "    with sr.AudioFile(audio_path) as source:\n",
        "        audio = recognizer.record(source)\n",
        "        try:\n",
        "            text = recognizer.recognize_google(audio)\n",
        "            return text\n",
        "        except sr.UnknownValueError:\n",
        "            return \"Could not understand audio\"\n",
        "        except sr.RequestError as e:\n",
        "            return f\"Error requesting results: {e}\"\n",
        "\n",
        "def add_punctuations_basic(text):\n",
        "    # Add a space after each punctuation mark\n",
        "    punctuated_text = re.sub(r'(?<=[.,!?])(?=[^\\s])', r' ', text)\n",
        "    return punctuated_text\n",
        "\n",
        "audio_path = \"male.wav\"\n",
        "transcribed_text = transcribe_audio(audio_path)\n",
        "if \"Could not understand audio\" not in transcribed_text:\n",
        "    punctuated_text = add_punctuations_basic(transcribed_text)\n",
        "    print(\"Transcribed Text:\", transcribed_text)\n",
        "    print(\"Punctuated Text:\", punctuated_text)\n",
        "else:\n",
        "    print(transcribed_text)\n"
      ],
      "metadata": {
        "colab": {
          "base_uri": "https://localhost:8080/"
        },
        "id": "RUNVGluJfIxu",
        "outputId": "dc636228-f574-4d45-dd65-8e7cae490cc8"
      },
      "execution_count": 22,
      "outputs": [
        {
          "output_type": "stream",
          "name": "stdout",
          "text": [
            "Transcribed Text: but what if somebody decides to break it be careful that you keep adequate coverage but look for places to save money maybe it's taking longer to get things squared away then the Bankers expected during the yo41 company may won't hurt excited retirement in the boost is helpful but inadequate new self-deceiving rags are Hursley cost on the two naked bone what a discussion Kang insoo when the title of this type of song is in question there is no dying or waxing or glass paperweight maybe personalised number plates work on a flat surface and smooth out the simplest kind of separate system uses a single self-contained Unit 2 the Old shop at it still holds a good mechanic is usually a bed bath figures would go higher in later years some a beautiful chairs cabinets Chester houses\n",
            "Punctuated Text: but what if somebody decides to break it be careful that you keep adequate coverage but look for places to save money maybe it's taking longer to get things squared away then the Bankers expected during the yo41 company may won't hurt excited retirement in the boost is helpful but inadequate new self-deceiving rags are Hursley cost on the two naked bone what a discussion Kang insoo when the title of this type of song is in question there is no dying or waxing or glass paperweight maybe personalised number plates work on a flat surface and smooth out the simplest kind of separate system uses a single self-contained Unit 2 the Old shop at it still holds a good mechanic is usually a bed bath figures would go higher in later years some a beautiful chairs cabinets Chester houses\n"
          ]
        }
      ]
    },
    {
      "cell_type": "code",
      "source": [
        "import re\n",
        "pattern = r\"(http|ftp|https)://([\\w_-]+(?:(?:\\.[\\w_-]+)+))([\\w.,@?^=%&:/~+#-]*[\\w@?^=%&/~+#-])?\"\n",
        "cleaned_text = re.sub(pattern, \"\", transcribed_text)\n",
        "print(\"Text without URLs:\", cleaned_text)"
      ],
      "metadata": {
        "colab": {
          "base_uri": "https://localhost:8080/"
        },
        "id": "rXUm0p6Ulzhm",
        "outputId": "074e43b6-1b5c-4acd-e91b-3df26abae676"
      },
      "execution_count": 24,
      "outputs": [
        {
          "output_type": "stream",
          "name": "stdout",
          "text": [
            "Text without URLs: but what if somebody decides to break it be careful that you keep adequate coverage but look for places to save money maybe it's taking longer to get things squared away then the Bankers expected during the yo41 company may won't hurt excited retirement in the boost is helpful but inadequate new self-deceiving rags are Hursley cost on the two naked bone what a discussion Kang insoo when the title of this type of song is in question there is no dying or waxing or glass paperweight maybe personalised number plates work on a flat surface and smooth out the simplest kind of separate system uses a single self-contained Unit 2 the Old shop at it still holds a good mechanic is usually a bed bath figures would go higher in later years some a beautiful chairs cabinets Chester houses\n"
          ]
        }
      ]
    }
  ]
}